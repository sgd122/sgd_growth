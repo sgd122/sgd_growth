{
 "cells": [
  {
   "cell_type": "code",
   "execution_count": 1,
   "metadata": {},
   "outputs": [],
   "source": [
    "import requests\n",
    "from bs4 import BeautifulSoup\n",
    "\n",
    "\n",
    "headers = {\n",
    "    'User-Agent': (\n",
    "        'Mozilla/5.0 (Macintosh; Intel Mac OS X 10_14_3) '\n",
    "        'AppleWebKit/537.36 (KHTML, like Gecko) '\n",
    "        'Chrome/72.0.3626.121 Safari/537.36'\n",
    "    ),\n",
    "}\n",
    "\n",
    "\n",
    "def get_like_count(song_no_list):\n",
    "    api_url = \"https://www.melon.com/commonlike/getSongLike.json\"\n",
    "    params = {\"contsIds\": song_no_list}\n",
    "    res = requests.get(api_url, params=params, headers=headers)\n",
    "    res.raise_for_status()\n",
    "    response = res.json()\n",
    "    like_list = response[\"contsLike\"]\n",
    "    like_dict = {\n",
    "        str(song[\"CONTSID\"]): song[\"SUMMCNT\"]\n",
    "        for song in like_list}\n",
    "    return like_dict\n",
    "\n",
    "\n",
    "def get_song_list():\n",
    "    res = requests.get(\"http://www.melon.com/chart/index.htm\", headers=headers)\n",
    "    res.raise_for_status()\n",
    "    html = res.text\n",
    "    soup = BeautifulSoup(html, 'html.parser')\n",
    "    tr_tag_list = soup.select('.d_song_list tbody tr')\n",
    "\n",
    "    song_list = []\n",
    "\n",
    "    for rank, tr_tag in enumerate(tr_tag_list, 1):\n",
    "        song_no = tr_tag[\"data-song-no\"]\n",
    "        song_tag = tr_tag.select_one('a[href*=playSong]')\n",
    "        album_tag = tr_tag.select_one('.wrap_song_info a[href*=goAlbumDetail]')\n",
    "        artist_tag = tr_tag.select_one('a[href*=goArtistDetail]')\n",
    "        \n",
    "        song = {\n",
    "            'song_no': song_no,\n",
    "            'title': song_tag.text,\n",
    "            'album': album_tag.text,\n",
    "            'artist': artist_tag.text,\n",
    "            'rank': rank,\n",
    "        }\n",
    "        song_list.append(song)\n",
    "\n",
    "    song_no_list = [song[\"song_no\"] for song in song_list]\n",
    "    like_dict = get_like_count(song_no_list)\n",
    "\n",
    "    for song in song_list:\n",
    "        like_count = like_dict[song[\"song_no\"]]\n",
    "        song[\"like\"] = like_count\n",
    "\n",
    "    return song_list"
   ]
  },
  {
   "cell_type": "code",
   "execution_count": 25,
   "metadata": {},
   "outputs": [],
   "source": [
    "melon_top100_list = get_song_list()\n",
    "melon_top100 = get_song_list()"
   ]
  },
  {
   "cell_type": "markdown",
   "metadata": {},
   "source": [
    "# `\"방탄소년단\"` 의 곡명만 출력하는 코드"
   ]
  },
  {
   "cell_type": "code",
   "execution_count": 151,
   "metadata": {},
   "outputs": [
    {
     "data": {
      "text/plain": [
       "['Dynamite',\n",
       " 'Life Goes On',\n",
       " '작은 것들을 위한 시 (Boy With Luv) (Feat. Halsey)',\n",
       " '내 방을 여행하는 법',\n",
       " '봄날',\n",
       " 'Blue & Grey',\n",
       " '잠시',\n",
       " 'ON',\n",
       " 'Stay',\n",
       " '병']"
      ]
     },
     "execution_count": 151,
     "metadata": {},
     "output_type": "execute_result"
    }
   ],
   "source": [
    "song_filter = filter(\n",
    "    lambda song:song[\"artist\"] == \"방탄소년단\",\n",
    "    melon_top100\n",
    ")\n",
    "\n",
    "song_map = map(\n",
    "    lambda song:song[\"title\"],\n",
    "    song_filter\n",
    ")\n",
    "\n",
    "list(song_map)"
   ]
  },
  {
   "cell_type": "markdown",
   "metadata": {},
   "source": [
    "# 2. 곡명에 \"가을\"이 들어가는 곡명만 출력하는 코드\n",
    "    - Hint: 포함여부 = \"가을\" in 곡명"
   ]
  },
  {
   "cell_type": "code",
   "execution_count": 153,
   "metadata": {},
   "outputs": [
    {
     "data": {
      "text/plain": [
       "['가을밤에 든 생각']"
      ]
     },
     "execution_count": 153,
     "metadata": {},
     "output_type": "execute_result"
    }
   ],
   "source": [
    "song_filter = filter(\n",
    "    lambda song:\"가을\" in song[\"title\"],\n",
    "    melon_top100\n",
    ")\n",
    "\n",
    "song_map = map(\n",
    "    lambda song:song[\"title\"],\n",
    "    song_filter\n",
    ")\n",
    "\n",
    "list(song_map)"
   ]
  },
  {
   "cell_type": "markdown",
   "metadata": {},
   "source": [
    "# 3. 좋아요 수가 200,000이 넘는 곡수를 구하는 코드\n",
    "    - Hint: int(좋아요) > 200000"
   ]
  },
  {
   "cell_type": "code",
   "execution_count": 154,
   "metadata": {},
   "outputs": [
    {
     "data": {
      "text/plain": [
       "['Dynamite',\n",
       " '오래된 노래',\n",
       " '어떻게 이별까지 사랑하겠어, 널 사랑하는 거지',\n",
       " '에잇(Prod.&Feat. SUGA of BTS)',\n",
       " '흔들리는 꽃들 속에서 네 샴푸향이 느껴진거야',\n",
       " '아로하',\n",
       " 'METEOR',\n",
       " 'Blueming',\n",
       " '작은 것들을 위한 시 (Boy With Luv) (Feat. Halsey)',\n",
       " '모든 날, 모든 순간 (Every day, Every Moment)',\n",
       " '오늘도 빛나는 너에게 (To You My Light) (Feat.이라온)',\n",
       " '봄날',\n",
       " '2002',\n",
       " '다시 여기 바닷가',\n",
       " '너를 만나',\n",
       " '아무노래',\n",
       " 'ON',\n",
       " 'Love poem',\n",
       " 'Paris In The Rain']"
      ]
     },
     "execution_count": 154,
     "metadata": {},
     "output_type": "execute_result"
    }
   ],
   "source": [
    "song_filter = filter(\n",
    "    lambda song:song[\"like\"] > 200_000,\n",
    "    melon_top100\n",
    ")\n",
    "\n",
    "song_map = map(\n",
    "    lambda song:song[\"title\"],\n",
    "    song_filter\n",
    ")\n",
    "\n",
    "list(song_map)"
   ]
  },
  {
   "cell_type": "markdown",
   "metadata": {},
   "source": [
    "# 4. 가수 별 곡수를 출력하는 코드\n",
    "    - Hint: `dict` 자료구조 활용"
   ]
  },
  {
   "cell_type": "code",
   "execution_count": 156,
   "metadata": {},
   "outputs": [
    {
     "data": {
      "text/plain": [
       "Counter({'미란이': 2,\n",
       "         '방탄소년단': 10,\n",
       "         '장범준': 2,\n",
       "         '임창정': 2,\n",
       "         'BLACKPINK': 4,\n",
       "         '산들': 1,\n",
       "         '경서': 1,\n",
       "         '릴보이 (lIlBOI)': 2,\n",
       "         '스탠딩 에그': 1,\n",
       "         'Jawsh 685': 1,\n",
       "         '환불원정대': 1,\n",
       "         '규현 (KYUHYUN)': 1,\n",
       "         '마마무 (Mamamoo)': 2,\n",
       "         '박진영': 1,\n",
       "         'AKMU (악동뮤지션)': 2,\n",
       "         'Mariah Carey': 2,\n",
       "         '아이유': 4,\n",
       "         '이승기': 1,\n",
       "         '스윙스': 1,\n",
       "         '적재': 1,\n",
       "         'TWICE (트와이스)': 1,\n",
       "         '오반': 2,\n",
       "         '노을': 2,\n",
       "         '잔나비': 1,\n",
       "         '오마이걸 (OH MY GIRL)': 2,\n",
       "         '조정석': 1,\n",
       "         '제시 (Jessi)': 1,\n",
       "         '화사 (Hwa Sa)': 1,\n",
       "         '창모 (CHANGMO)': 1,\n",
       "         '폴킴': 4,\n",
       "         '백지영': 1,\n",
       "         '순순희': 1,\n",
       "         'Ariana Grande': 1,\n",
       "         '벤': 1,\n",
       "         '이하이': 1,\n",
       "         'Maroon 5': 1,\n",
       "         'Tones And I': 1,\n",
       "         '경서예지': 1,\n",
       "         '전상근': 1,\n",
       "         '블루 (BLOO)': 1,\n",
       "         '마크툽 (MAKTUB)': 2,\n",
       "         'Crush': 1,\n",
       "         '신예영': 1,\n",
       "         '허성현 (Rose de Penny)': 1,\n",
       "         'Anne-Marie': 1,\n",
       "         '먼데이 키즈 (Monday Kiz)': 1,\n",
       "         '청하': 1,\n",
       "         '싹쓰리 (유두래곤, 린다G, 비룡)': 1,\n",
       "         '양요섭': 1,\n",
       "         '전미도': 1,\n",
       "         '엠씨더맥스 (M.C the MAX)': 1,\n",
       "         '송하예': 1,\n",
       "         'Dua Lipa': 1,\n",
       "         '임영웅': 1,\n",
       "         '지코 (ZICO)': 2,\n",
       "         '가호 (Gaho)': 1,\n",
       "         'Etham': 1,\n",
       "         'aespa': 1,\n",
       "         'Sia': 1,\n",
       "         '(여자)아이들': 1,\n",
       "         'Conan Gray': 1,\n",
       "         'Lauv': 1,\n",
       "         'HYNN (박혜원)': 1,\n",
       "         '김필': 1,\n",
       "         'MINO (송민호)': 1,\n",
       "         '카더가든': 1,\n",
       "         '황인욱': 1,\n",
       "         '신용재 (2F)': 1,\n",
       "         'ITZY (있지)': 1,\n",
       "         '선미': 1})"
      ]
     },
     "execution_count": 156,
     "metadata": {},
     "output_type": "execute_result"
    }
   ],
   "source": [
    "from collections import Counter\n",
    "\n",
    "Counter(map(\n",
    "    lambda song:song[\"artist\"],\n",
    "    melon_top100\n",
    "))"
   ]
  },
  {
   "cell_type": "markdown",
   "metadata": {},
   "source": [
    "# 5. 좋아요 수로 TOP10의 가수와 곡명, 좋아요수 출력하는 코드\n",
    "    - Hint : 리스트에는 sort 함수가 제공되고 있으며, 빌트인 함수에는 `sorted`가 제공됩니다."
   ]
  },
  {
   "cell_type": "code",
   "execution_count": 165,
   "metadata": {},
   "outputs": [
    {
     "data": {
      "text/plain": [
       "[('방탄소년단', '봄날', 516607),\n",
       " ('방탄소년단', '작은 것들을 위한 시 (Boy With Luv) (Feat. Halsey)', 406735),\n",
       " ('방탄소년단', 'Dynamite', 362539),\n",
       " ('폴킴', '모든 날, 모든 순간 (Every day, Every Moment)', 352595),\n",
       " ('Anne-Marie', '2002', 344471),\n",
       " ('아이유', '에잇(Prod.&Feat. SUGA of BTS)', 331240),\n",
       " ('AKMU (악동뮤지션)', '어떻게 이별까지 사랑하겠어, 널 사랑하는 거지', 325007),\n",
       " ('아이유', 'Love poem', 277585),\n",
       " ('아이유', 'Blueming', 276945),\n",
       " ('폴킴', '너를 만나', 275108)]"
      ]
     },
     "execution_count": 165,
     "metadata": {},
     "output_type": "execute_result"
    }
   ],
   "source": [
    "# 1. 좋아요 순서 sort\n",
    "# 2. Top10 - [artist,title,like]\n",
    "\n",
    "song_sorted = sorted(melon_top100, key=lambda song:song[\"like\"], reverse=True)[:10]\n",
    "song_map = map(\n",
    "    lambda song:(song[\"artist\"],song[\"title\"],song[\"like\"]),\n",
    "    song_sorted\n",
    ")\n",
    "list(song_map)"
   ]
  },
  {
   "cell_type": "code",
   "execution_count": 4,
   "metadata": {},
   "outputs": [],
   "source": [
    "#------------------------------------------------------------------------------------------------#\n",
    "#------------------------------------------------------------------------------------------------#\n",
    "#------------------------------------------------------------------------------------------------#"
   ]
  },
  {
   "cell_type": "markdown",
   "metadata": {},
   "source": [
    "# f 객체에 대해서 슬라이싱 적용하기"
   ]
  },
  {
   "cell_type": "code",
   "execution_count": 168,
   "metadata": {},
   "outputs": [
    {
     "name": "stdout",
     "output_type": "stream",
     "text": [
      "[0] ,song_no,title,album,artist,rank,like\n",
      "\n",
      "[1] 0,33077590,VVS (Feat. JUSTHIS) (Prod. GroovyRoom),쇼미더머니 9 Episode 1,미란이,1,96325\n",
      "\n",
      "[2] 1,32872978,Dynamite,Dynamite (DayTime Version),방탄소년단,2,360973\n",
      "\n",
      "[3] 2,33013877,잠이 오질 않네요,잠이 오질 않네요,장범준,3,82843\n",
      "\n",
      "[4] 3,33077234,Life Goes On,BE,방탄소년단,4,151888\n",
      "\n"
     ]
    }
   ],
   "source": [
    "from itertools import islice \n",
    "\n",
    "with open (\"20201202/melon_top100.csv\", \"rt\") as f:\n",
    "    for index, value in islice(enumerate(f),5):\n",
    "        print(f\"[{index}] {value}\")"
   ]
  },
  {
   "cell_type": "markdown",
   "metadata": {},
   "source": [
    "# 1. 유효한 팰린드롬\n",
    "\n",
    "주어진 문자열이 팰린드롬인지 확인하세요. 대소문자를 구별하지 않으며, `영문자와 숫자` 만으로 대상으로 합니다.\n",
    "\n",
    "## 팰린드롬이란?\n",
    "\n",
    "앞뒤가 똑같은 단어가 문장으로, 뒤집어도 같은 말이 되는 단어 또는 문장을 팰린드롬(Palindrome)이라고 합니다. 우리말로는 \"회문\"이라 부르며, 문장 중에서는 대표적으로 \"소주 만 병만 주소\" 같은 문장이 이에 해당합니다. 이 문장은 뒤집어도 \"소주 만 병만 주소\"가 됩니다. 이러한 팰린드롬의 특징을 응용하면 여러 가지 재미있는 문제들을 많이 만들어낼 수 있기 때문에 코딩 테스트에서 매우 자주 출제되는 주제입니다."
   ]
  },
  {
   "cell_type": "code",
   "execution_count": 173,
   "metadata": {},
   "outputs": [
    {
     "name": "stdout",
     "output_type": "stream",
     "text": [
      "True\n",
      "False\n"
     ]
    }
   ],
   "source": [
    "import re\n",
    "\n",
    "def is_palindrome(s):\n",
    "    # TODO: 구현해주세요.\n",
    "    value = re.sub(r\"[^a-zA-Z\\d+]\",\"\",s).lower()\n",
    "    re_value = value[::-1]\n",
    "    \n",
    "    if value != re_value:\n",
    "        return False\n",
    "    return True\n",
    "\n",
    "print(is_palindrome(\"A man, a plan, a canal: Panama\"))  # 예상결과: True\n",
    "print(is_palindrome(\"race a car\"))  # 예상결과: False?"
   ]
  },
  {
   "cell_type": "code",
   "execution_count": null,
   "metadata": {},
   "outputs": [],
   "source": []
  },
  {
   "cell_type": "markdown",
   "metadata": {},
   "source": [
    "# 2. 가장 흔한 단어\n",
    "\n",
    "금지된 단어를 제외한 가장 흔하게 등장하는 단어를 출력하세요. 대소문자 구분을 하지 않으며, 구두점(마침표, 쉼표 등) 또한 무시합니다."
   ]
  },
  {
   "cell_type": "code",
   "execution_count": 188,
   "metadata": {},
   "outputs": [
    {
     "data": {
      "text/plain": [
       "'ball'"
      ]
     },
     "execution_count": 188,
     "metadata": {},
     "output_type": "execute_result"
    }
   ],
   "source": [
    "import re\n",
    "from collections import Counter\n",
    "\n",
    "문장 = \"Bob hit a ball, the hit BALL flew far after it was hit.\"\n",
    "금지어_리스트 = [\"hit\"]\n",
    "\n",
    "value = re.sub(r\"[,\\.]\",\"\",문장).lower().split()\n",
    "filter_vlaue = filter(\n",
    "    lambda x:x not in 금지어_리스트,\n",
    "    value\n",
    ")\n",
    "\n",
    "\n",
    "return_value,_ = Counter(filter_vlaue).most_common()[0]\n",
    "return_value\n",
    "\n",
    "# 예상결과: 'ball'"
   ]
  },
  {
   "cell_type": "code",
   "execution_count": null,
   "metadata": {},
   "outputs": [],
   "source": []
  },
  {
   "cell_type": "markdown",
   "metadata": {},
   "source": [
    "# 3. 그룹 애너그램\n",
    "\n",
    "문자열 배열을 받아서, 애너그램 단위로 그룹핑하세요. 출력되는 순서는 상관없습니다.\n",
    "\n",
    "입력\n",
    "\n",
    "```python\n",
    "[\"eat\", \"tea\", \"tan\", \"ate\", \"nat\", \"bat\"]\n",
    "```\n",
    "\n",
    "출력\n",
    "\n",
    "```python\n",
    "[\n",
    "    [\"ate\", \"eat\", \"tea\"],\n",
    "    [\"nat\", \"tan\"],\n",
    "    [\"bat\"],\n",
    "]\n",
    "```"
   ]
  },
  {
   "cell_type": "code",
   "execution_count": 96,
   "metadata": {},
   "outputs": [],
   "source": [
    "word_list = [\"eat\", \"tea\", \"tan\", \"ate\", \"nat\", \"bat\"]"
   ]
  },
  {
   "cell_type": "code",
   "execution_count": 198,
   "metadata": {},
   "outputs": [
    {
     "data": {
      "text/plain": [
       "[['eat', 'tea', 'ate'], ['tan', 'nat'], ['bat']]"
      ]
     },
     "execution_count": 198,
     "metadata": {},
     "output_type": "execute_result"
    }
   ],
   "source": [
    "# list를 기본으로 가지는 dict\n",
    "from collections import defaultdict\n",
    "\n",
    "return_list = defaultdict(list)\n",
    "for word in word_list:\n",
    "    key = \"\".join(sorted(word))\n",
    "    return_list[key].append(word)\n",
    "\n",
    "list(return_list.values())"
   ]
  },
  {
   "cell_type": "markdown",
   "metadata": {},
   "source": [
    "# 4. 인자 갯수에 상관없이, 지정 함수의 실행시간을 출력하는 장식자\n",
    "\n",
    "\n",
    "```python\n",
    "import time\n",
    "\n",
    "def check_runtime(fn):\n",
    "    # TODO: ...\n",
    "\n",
    "@check_runtime\n",
    "def mysum(x, y):\n",
    "    time.sleep(2)\n",
    "    return x + y\n",
    "\n",
    "mysum(1, 2)\n",
    "```\n",
    "\n",
    "출력 : `약 2초가 소요`"
   ]
  },
  {
   "cell_type": "markdown",
   "metadata": {},
   "source": [
    "time.time()"
   ]
  },
  {
   "cell_type": "code",
   "execution_count": 201,
   "metadata": {},
   "outputs": [
    {
     "name": "stdout",
     "output_type": "stream",
     "text": [
      "약 2.0042552947998047초가 소요\n"
     ]
    },
    {
     "data": {
      "text/plain": [
       "3"
      ]
     },
     "execution_count": 201,
     "metadata": {},
     "output_type": "execute_result"
    }
   ],
   "source": [
    "import time\n",
    "\n",
    "def check_runtime(fn):\n",
    "    # TODO: ...\n",
    "    def wrap(*args):\n",
    "        start_time = time.time()\n",
    "        try:\n",
    "            return fn(*args)\n",
    "        finally:\n",
    "            end_time = time.time()\n",
    "            print(f\"약 {end_time - start_time}초가 소요\")\n",
    "    return wrap\n",
    "\n",
    "@check_runtime\n",
    "def mysum(x, y):\n",
    "    time.sleep(2)\n",
    "    return x + y\n",
    "\n",
    "mysum(1, 2)"
   ]
  },
  {
   "cell_type": "markdown",
   "metadata": {},
   "source": [
    "# 5. Memoization\n",
    "\n",
    "다음의 함수들이 빠르게 동작할 수 있도록 `@memoize` 장식자를 함수버전과 클래스버전으로 만들어주세요. `RuntimeError: maximum recursion depth exceeded` 예외가 발생한다면 이 예외가 발생하지 않도록 설정해주세요."
   ]
  },
  {
   "cell_type": "code",
   "execution_count": 208,
   "metadata": {},
   "outputs": [
    {
     "name": "stdout",
     "output_type": "stream",
     "text": [
      "43466557686937456435688527675040625802564660517371780402481729089536555417949051890403879840079255169295922593080322634775209689623239873322471161642996440906533187938298969649928516003704476137795166849228875\n",
      "43466557686937456435688527675040625802564660517371780402481729089536555417949051890403879840079255169295922593080322634775209689623239873322471161642996440906533187938298969649928516003704476137795166849228875\n",
      "43466557686937456435688527675040625802564660517371780402481729089536555417949051890403879840079255169295922593080322634775209689623239873322471161642996440906533187938298969649928516003704476137795166849228875\n",
      "43466557686937456435688527675040625802564660517371780402481729089536555417949051890403879840079255169295922593080322634775209689623239873322471161642996440906533187938298969649928516003704476137795166849228875\n",
      "43466557686937456435688527675040625802564660517371780402481729089536555417949051890403879840079255169295922593080322634775209689623239873322471161642996440906533187938298969649928516003704476137795166849228875\n",
      "43466557686937456435688527675040625802564660517371780402481729089536555417949051890403879840079255169295922593080322634775209689623239873322471161642996440906533187938298969649928516003704476137795166849228875\n"
     ]
    }
   ],
   "source": [
    "import sys\n",
    "# RuntimeError: maximum recursion depth exceeded 예외가 발생하지 않도록 limit을 늘립니다.\n",
    "sys.setrecursionlimit(10000)\n",
    "\n",
    "# 함수버전, 클래스버전\n",
    "def memoize(fn):\n",
    "    cached = {}\n",
    "    def wrap(n):\n",
    "        key = n\n",
    "        if key not in cached:\n",
    "            cached[key] = fn(n)\n",
    "        return cached[key]\n",
    "    return wrap\n",
    "\n",
    "class Memoize:\n",
    "    def __init__(self, fn):\n",
    "        self.fn = fn\n",
    "        self.cached = {}\n",
    "        \n",
    "    def __call__(self, n):\n",
    "        key = n\n",
    "        if key not in self.cached:\n",
    "            self.cached[key] = self.fn(n)\n",
    "        return self.cached[key]\n",
    "\n",
    "@memoize\n",
    "def fib1(n):\n",
    "    if n in (1, 2):\n",
    "        return 1\n",
    "    return fib1(n-1) + fib1(n-2)\n",
    "\n",
    "@Memoize\n",
    "def fib2(n):\n",
    "    if n in (1, 2):\n",
    "        return 1\n",
    "    return fib2(n-1) + fib2(n-2)\n",
    "\n",
    "print(fib1(1000))    # 1초 내외\n",
    "print(fib1(1000))    # 1초 내외\n",
    "print(fib1(1000))    # 1초 내외\n",
    "print(fib2(1000))    # 1초 내외\n",
    "print(fib2(1000))    # 1초 내외\n",
    "print(fib2(1000))    # 1초 내외"
   ]
  },
  {
   "cell_type": "code",
   "execution_count": null,
   "metadata": {},
   "outputs": [],
   "source": []
  }
 ],
 "metadata": {
  "kernelspec": {
   "display_name": "Python 3",
   "language": "python",
   "name": "python3"
  },
  "language_info": {
   "codemirror_mode": {
    "name": "ipython",
    "version": 3
   },
   "file_extension": ".py",
   "mimetype": "text/x-python",
   "name": "python",
   "nbconvert_exporter": "python",
   "pygments_lexer": "ipython3",
   "version": "3.8.3"
  }
 },
 "nbformat": 4,
 "nbformat_minor": 4
}
