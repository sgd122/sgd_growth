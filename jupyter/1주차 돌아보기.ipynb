{
 "cells": [
  {
   "cell_type": "code",
   "execution_count": 1,
   "metadata": {},
   "outputs": [],
   "source": [
    "import requests\n",
    "from bs4 import BeautifulSoup\n",
    "\n",
    "\n",
    "headers = {\n",
    "    'User-Agent': (\n",
    "        'Mozilla/5.0 (Macintosh; Intel Mac OS X 10_14_3) '\n",
    "        'AppleWebKit/537.36 (KHTML, like Gecko) '\n",
    "        'Chrome/72.0.3626.121 Safari/537.36'\n",
    "    ),\n",
    "}\n",
    "\n",
    "\n",
    "def get_like_count(song_no_list):\n",
    "    api_url = \"https://www.melon.com/commonlike/getSongLike.json\"\n",
    "    params = {\"contsIds\": song_no_list}\n",
    "    res = requests.get(api_url, params=params, headers=headers)\n",
    "    res.raise_for_status()\n",
    "    response = res.json()\n",
    "    like_list = response[\"contsLike\"]\n",
    "    like_dict = {\n",
    "        str(song[\"CONTSID\"]): song[\"SUMMCNT\"]\n",
    "        for song in like_list}\n",
    "    return like_dict\n",
    "\n",
    "\n",
    "def get_song_list():\n",
    "    res = requests.get(\"http://www.melon.com/chart/index.htm\", headers=headers)\n",
    "    res.raise_for_status()\n",
    "    html = res.text\n",
    "    soup = BeautifulSoup(html, 'html.parser')\n",
    "    tr_tag_list = soup.select('.d_song_list tbody tr')\n",
    "\n",
    "    song_list = []\n",
    "\n",
    "    for rank, tr_tag in enumerate(tr_tag_list, 1):\n",
    "        song_no = tr_tag[\"data-song-no\"]\n",
    "        song_tag = tr_tag.select_one('a[href*=playSong]')\n",
    "        album_tag = tr_tag.select_one('.wrap_song_info a[href*=goAlbumDetail]')\n",
    "        artist_tag = tr_tag.select_one('a[href*=goArtistDetail]')\n",
    "        \n",
    "        song = {\n",
    "            'song_no': song_no,\n",
    "            'title': song_tag.text,\n",
    "            'album': album_tag.text,\n",
    "            'artist': artist_tag.text,\n",
    "            'rank': rank,\n",
    "        }\n",
    "        song_list.append(song)\n",
    "\n",
    "    song_no_list = [song[\"song_no\"] for song in song_list]\n",
    "    like_dict = get_like_count(song_no_list)\n",
    "\n",
    "    for song in song_list:\n",
    "        like_count = like_dict[song[\"song_no\"]]\n",
    "        song[\"like\"] = like_count\n",
    "\n",
    "    return song_list"
   ]
  },
  {
   "cell_type": "code",
   "execution_count": 6,
   "metadata": {},
   "outputs": [],
   "source": [
    "melon_top100_list = get_song_list()\n",
    "melon_top100 = get_song_list()"
   ]
  },
  {
   "cell_type": "markdown",
   "metadata": {},
   "source": [
    "# `\"방탄소년단\"` 의 곡명만 출력하는 코드"
   ]
  },
  {
   "cell_type": "code",
   "execution_count": null,
   "metadata": {},
   "outputs": [],
   "source": []
  },
  {
   "cell_type": "markdown",
   "metadata": {},
   "source": [
    "# 2. 곡명에 \"가을\"이 들어가는 곡명만 출력하는 코드\n",
    "    - Hint: 포함여부 = \"가을\" in 곡명"
   ]
  },
  {
   "cell_type": "code",
   "execution_count": null,
   "metadata": {},
   "outputs": [],
   "source": []
  },
  {
   "cell_type": "markdown",
   "metadata": {},
   "source": [
    "# 3. 좋아요 수가 200,000이 넘는 곡수를 구하는 코드\n",
    "    - Hint: int(좋아요) > 200000"
   ]
  },
  {
   "cell_type": "code",
   "execution_count": null,
   "metadata": {},
   "outputs": [],
   "source": []
  },
  {
   "cell_type": "markdown",
   "metadata": {},
   "source": [
    "# 4. 가수 별 곡수를 출력하는 코드\n",
    "    - Hint: `dict` 자료구조 활용"
   ]
  },
  {
   "cell_type": "code",
   "execution_count": null,
   "metadata": {},
   "outputs": [],
   "source": []
  },
  {
   "cell_type": "markdown",
   "metadata": {},
   "source": [
    "# 5. 좋아요 수로 TOP10의 가수와 곡명, 좋아요수 출력하는 코드\n",
    "    - Hint : 리스트에는 sort 함수가 제공되고 있으며, 빌트인 함수에는 `sorted`가 제공됩니다."
   ]
  },
  {
   "cell_type": "code",
   "execution_count": null,
   "metadata": {},
   "outputs": [],
   "source": []
  },
  {
   "cell_type": "code",
   "execution_count": 4,
   "metadata": {},
   "outputs": [],
   "source": [
    "#------------------------------------------------------------------------------------------------#\n",
    "#------------------------------------------------------------------------------------------------#\n",
    "#------------------------------------------------------------------------------------------------#"
   ]
  },
  {
   "cell_type": "markdown",
   "metadata": {},
   "source": [
    "# f 객체에 대해서 슬라이싱 적용하기"
   ]
  },
  {
   "cell_type": "code",
   "execution_count": null,
   "metadata": {},
   "outputs": [],
   "source": []
  },
  {
   "cell_type": "markdown",
   "metadata": {},
   "source": [
    "# [(과제) CSV 파일을 생성하고, 엑셀에서 열어보기](https://pnu.nomade.kr/CSV-b531d9bdee33471c8da2bcd410448da4)"
   ]
  },
  {
   "cell_type": "code",
   "execution_count": null,
   "metadata": {},
   "outputs": [],
   "source": []
  },
  {
   "cell_type": "markdown",
   "metadata": {},
   "source": [
    "# 1. 유효한 팰린드롬\n",
    "\n",
    "주어진 문자열이 팰린드롬인지 확인하세요. 대소문자를 구별하지 않으며, `영문자와 숫자` 만으로 대상으로 합니다.\n",
    "\n",
    "## 팰린드롬이란?\n",
    "\n",
    "앞뒤가 똑같은 단어가 문장으로, 뒤집어도 같은 말이 되는 단어 또는 문장을 팰린드롬(Palindrome)이라고 합니다. 우리말로는 \"회문\"이라 부르며, 문장 중에서는 대표적으로 \"소주 만 병만 주소\" 같은 문장이 이에 해당합니다. 이 문장은 뒤집어도 \"소주 만 병만 주소\"가 됩니다. 이러한 팰린드롬의 특징을 응용하면 여러 가지 재미있는 문제들을 많이 만들어낼 수 있기 때문에 코딩 테스트에서 매우 자주 출제되는 주제입니다."
   ]
  },
  {
   "cell_type": "code",
   "execution_count": 9,
   "metadata": {},
   "outputs": [],
   "source": [
    "import re\n",
    "\n",
    "def is_palindrome(s):\n",
    "    # TODO: 구현해주세요.\n",
    "    pass\n",
    "\n",
    "# print(is_palindrome(\"A man, a plan, a canal: Panama\"))  # 예상결과: True\n",
    "# print(is_palindrome(\"race a car\"))  # 예상결과: False"
   ]
  },
  {
   "cell_type": "code",
   "execution_count": null,
   "metadata": {},
   "outputs": [],
   "source": []
  },
  {
   "cell_type": "markdown",
   "metadata": {},
   "source": [
    "# 2. 가장 흔한 단어\n",
    "\n",
    "금지된 단어를 제외한 가장 흔하게 등장하는 단어를 출력하세요. 대소문자 구분을 하지 않으며, 구두점(마침표, 쉼표 등) 또한 무시합니다."
   ]
  },
  {
   "cell_type": "code",
   "execution_count": 12,
   "metadata": {},
   "outputs": [],
   "source": [
    "문장 = \"Bob hit a ball, the hit BALL flew far after it was hit.\"\n",
    "금지어_리스트 = [\"hit\"]\n",
    "\n",
    "\n",
    "\n",
    "# 예상결과: 'ball'"
   ]
  },
  {
   "cell_type": "code",
   "execution_count": null,
   "metadata": {},
   "outputs": [],
   "source": []
  },
  {
   "cell_type": "markdown",
   "metadata": {},
   "source": [
    "# 3. 그룹 애너그램\n",
    "\n",
    "문자열 배열을 받아서, 애너그램 단위로 그룹핑하세요. 출력되는 순서는 상관없습니다.\n",
    "\n",
    "입력\n",
    "\n",
    "```python\n",
    "[\"eat\", \"tea\", \"tan\", \"ate\", \"nat\", \"bat\"]\n",
    "```\n",
    "\n",
    "출력\n",
    "\n",
    "```python\n",
    "[\n",
    "    [\"ate\", \"eat\", \"tea\"],\n",
    "    [\"nat\", \"tan\"],\n",
    "    [\"bat\"],\n",
    "]\n",
    "```"
   ]
  },
  {
   "cell_type": "code",
   "execution_count": null,
   "metadata": {},
   "outputs": [],
   "source": []
  },
  {
   "cell_type": "markdown",
   "metadata": {},
   "source": [
    "# 4. 인자 갯수에 상관없이, 지정 함수의 실행시간을 출력하는 장식자\n",
    "\n",
    "\n",
    "```python\n",
    "import time\n",
    "\n",
    "def check_runtime(fn):\n",
    "    # TODO: ...\n",
    "\n",
    "@check_runtime\n",
    "def mysum(x, y):\n",
    "    time.sleep(2)\n",
    "    return x + y\n",
    "\n",
    "mysum(1, 2)\n",
    "```\n",
    "\n",
    "출력 : `약 2초가 소요`"
   ]
  },
  {
   "cell_type": "code",
   "execution_count": null,
   "metadata": {},
   "outputs": [],
   "source": []
  },
  {
   "cell_type": "markdown",
   "metadata": {},
   "source": [
    "# 5. Memoization\n",
    "\n",
    "다음의 함수들이 빠르게 동작할 수 있도록 `@memoize` 장식자를 함수버전과 클래스버전으로 만들어주세요. `RuntimeError: maximum recursion depth exceeded` 예외가 발생한다면 이 예외가 발생하지 않도록 설정해주세요."
   ]
  },
  {
   "cell_type": "code",
   "execution_count": 13,
   "metadata": {},
   "outputs": [],
   "source": [
    "import sys\n",
    "# RuntimeError: maximum recursion depth exceeded 예외가 발생하지 않도록 limit을 늘립니다.\n",
    "sys.setrecursionlimit(10000)"
   ]
  },
  {
   "cell_type": "code",
   "execution_count": 15,
   "metadata": {},
   "outputs": [
    {
     "ename": "TypeError",
     "evalue": "__init__() takes 1 positional argument but 2 were given",
     "output_type": "error",
     "traceback": [
      "\u001b[0;31m---------------------------------------------------------------------------\u001b[0m",
      "\u001b[0;31mTypeError\u001b[0m                                 Traceback (most recent call last)",
      "\u001b[0;32m<ipython-input-15-ae8e0b880427>\u001b[0m in \u001b[0;36m<module>\u001b[0;34m\u001b[0m\n\u001b[1;32m     21\u001b[0m \u001b[0;34m\u001b[0m\u001b[0m\n\u001b[1;32m     22\u001b[0m \u001b[0;34m@\u001b[0m\u001b[0mMemoize\u001b[0m\u001b[0;34m\u001b[0m\u001b[0;34m\u001b[0m\u001b[0m\n\u001b[0;32m---> 23\u001b[0;31m \u001b[0;32mdef\u001b[0m \u001b[0mfib2\u001b[0m\u001b[0;34m(\u001b[0m\u001b[0mn\u001b[0m\u001b[0;34m)\u001b[0m\u001b[0;34m:\u001b[0m\u001b[0;34m\u001b[0m\u001b[0;34m\u001b[0m\u001b[0m\n\u001b[0m\u001b[1;32m     24\u001b[0m     \u001b[0;32mif\u001b[0m \u001b[0mn\u001b[0m \u001b[0;32min\u001b[0m \u001b[0;34m(\u001b[0m\u001b[0;36m1\u001b[0m\u001b[0;34m,\u001b[0m \u001b[0;36m2\u001b[0m\u001b[0;34m)\u001b[0m\u001b[0;34m:\u001b[0m\u001b[0;34m\u001b[0m\u001b[0;34m\u001b[0m\u001b[0m\n\u001b[1;32m     25\u001b[0m         \u001b[0;32mreturn\u001b[0m \u001b[0;36m1\u001b[0m\u001b[0;34m\u001b[0m\u001b[0;34m\u001b[0m\u001b[0m\n",
      "\u001b[0;31mTypeError\u001b[0m: __init__() takes 1 positional argument but 2 were given"
     ]
    }
   ],
   "source": [
    "import sys\n",
    "# RuntimeError: maximum recursion depth exceeded 예외가 발생하지 않도록 limit을 늘립니다.\n",
    "sys.setrecursionlimit(10000)\n",
    "\n",
    "# 함수버전, 클래스버전\n",
    "def memoize(fn):\n",
    "    pass\n",
    "\n",
    "class Memoize:\n",
    "    def __init__(self):\n",
    "        pass\n",
    "\n",
    "    def __call__(self):\n",
    "        pass\n",
    "\n",
    "@memoize\n",
    "def fib1(n):\n",
    "    if n in (1, 2):\n",
    "        return 1\n",
    "    return fib1(n-1) + fib1(n-2)\n",
    "\n",
    "@Memoize\n",
    "def fib2(n):\n",
    "    if n in (1, 2):\n",
    "        return 1\n",
    "    return fib2(n-1) + fib2(n-2)\n",
    "\n",
    "# print(fib1(1000))    # 1초 내외\n",
    "# print(fib2(1000))    # 1초 내외"
   ]
  },
  {
   "cell_type": "code",
   "execution_count": null,
   "metadata": {},
   "outputs": [],
   "source": []
  }
 ],
 "metadata": {
  "kernelspec": {
   "display_name": "Python 3",
   "language": "python",
   "name": "python3"
  },
  "language_info": {
   "codemirror_mode": {
    "name": "ipython",
    "version": 3
   },
   "file_extension": ".py",
   "mimetype": "text/x-python",
   "name": "python",
   "nbconvert_exporter": "python",
   "pygments_lexer": "ipython3",
   "version": "3.8.3"
  }
 },
 "nbformat": 4,
 "nbformat_minor": 4
}
