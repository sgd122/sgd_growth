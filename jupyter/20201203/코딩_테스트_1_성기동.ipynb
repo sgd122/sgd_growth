{
 "cells": [
  {
   "cell_type": "markdown",
   "metadata": {},
   "source": [
    "아래의 코드를 모두 푸신 후에, me@askcompany.kr 이메일로 보내주세요.\n",
    "\n",
    "이메일 제목은 `코딩 테스트 #1. 파이썬 - 홍길동` 형식으로 본인의 이름을 써주시면 됩니다.\n",
    "\n",
    "1. *GitLab 위키내 문서를 보시는 것은 괜찮으나, 인터넷 사용은 금합니다.*\n",
    "2. 각 코드에 대한 설명을 최대한 써주세요.\n",
    "3. 가능하시다면, 하나의 문제에 대한 다양한 풀이를 써주세요. (가산점)"
   ]
  },
  {
   "cell_type": "markdown",
   "metadata": {},
   "source": [
    "# 1. 유효한 팰린드롬\n",
    "\n",
    "주어진 문자열이 팰린드롬인지 확인하세요. 대소문자를 구별하지 않으며, `영문자와 숫자` 만으로 대상으로 합니다.\n",
    "\n",
    "## 팰린드롬이란?\n",
    "\n",
    "앞뒤가 똑같은 단어가 문장으로, 뒤집어도 같은 말이 되는 단어 또는 문장을 팰린드롬(Palindrome)이라고 합니다. 우리말로는 \"회문\"이라 부르며, 문장 중에서는 대표적으로 \"소주 만 병만 주소\" 같은 문장이 이에 해당합니다. 이 문장은 뒤집어도 \"소주 만 병만 주소\"가 됩니다. 이러한 팰린드롬의 특징을 응용하면 여러 가지 재미있는 문제들을 많이 만들어낼 수 있기 때문에 코딩 테스트에서 매우 자주 출제되는 주제입니다."
   ]
  },
  {
   "cell_type": "code",
   "execution_count": 4,
   "metadata": {},
   "outputs": [
    {
     "name": "stdout",
     "output_type": "stream",
     "text": [
      "True\n",
      "False\n"
     ]
    }
   ],
   "source": [
    "import re\n",
    "\n",
    "def is_palindrome(s):\n",
    "    # TODO: 구현해주세요.\n",
    "    converted = re.sub(r\"[^a-zA-z\\d+]\",\"\",s).lower()\n",
    "    reverse_converted = converted[::-1]\n",
    "    if converted == reverse_converted:\n",
    "        return True\n",
    "    else:\n",
    "        return False\n",
    "\n",
    "print(is_palindrome(\"A man, a plan, a canal: Panama\"))  # 예상결과: True\n",
    "print(is_palindrome(\"race a car\"))  # 예상결과: False"
   ]
  },
  {
   "cell_type": "markdown",
   "metadata": {},
   "source": [
    "# 2. 가장 흔한 단어\n",
    "\n",
    "금지된 단어를 제외한 가장 흔하게 등장하는 단어를 출력하세요. 대소문자 구분을 하지 않으며, 구두점(마침표, 쉼표 등) 또한 무시합니다."
   ]
  },
  {
   "cell_type": "code",
   "execution_count": 2,
   "metadata": {},
   "outputs": [
    {
     "data": {
      "text/plain": [
       "'ball'"
      ]
     },
     "execution_count": 2,
     "metadata": {},
     "output_type": "execute_result"
    }
   ],
   "source": [
    "import re\n",
    "from collections import Counter\n",
    "문장 = \"Bob hit a ball, the hit BALL flew far after it was hit.\"\n",
    "금지어_리스트 = [\"hit\"]\n",
    "\n",
    "def word_fn(words, not_words):\n",
    "    words_list = Counter(re.sub(r\"[,\\.]+\",\"\",words).lower().split()).most_common()  # 가장 흔하게 등장하는 빈도수로 정렬\n",
    "    not_words_list = Counter(not_words)\n",
    "    return(\n",
    "        #리스트로 변경후 첫번째 단어를 Return한다.\n",
    "        list(\n",
    "            # 금지된 단어를 제외하는 필터를 적용\n",
    "            filter(\n",
    "                lambda word: word not in not_words,\n",
    "                dict(words_list),\n",
    "            )\n",
    "        )[0]\n",
    "    )\n",
    "\n",
    "word_fn(문장, 금지어_리스트)\n",
    "# 예상결과: 'ball'"
   ]
  },
  {
   "cell_type": "code",
   "execution_count": null,
   "metadata": {},
   "outputs": [],
   "source": []
  },
  {
   "cell_type": "markdown",
   "metadata": {},
   "source": [
    "# 3. 그룹 애너그램\n",
    "\n",
    "문자열 배열을 받아서, 애너그램 단위로 그룹핑하세요. 출력되는 순서는 상관없습니다.\n",
    "\n",
    "입력\n",
    "\n",
    "```python\n",
    "[\"eat\", \"tea\", \"tan\", \"ate\", \"nat\", \"bat\"]\n",
    "```\n",
    "\n",
    "출력\n",
    "\n",
    "```python\n",
    "[\n",
    "    [\"ate\", \"eat\", \"tea\"],\n",
    "    [\"nat\", \"tan\"],\n",
    "    [\"bat\"],\n",
    "]\n",
    "```"
   ]
  },
  {
   "cell_type": "code",
   "execution_count": 3,
   "metadata": {},
   "outputs": [
    {
     "data": {
      "text/plain": [
       "[['eat', 'tea', 'ate'], ['tan', 'nat'], ['bat']]"
      ]
     },
     "execution_count": 3,
     "metadata": {},
     "output_type": "execute_result"
    }
   ],
   "source": [
    "from collections import defaultdict\n",
    "\n",
    "words_list = [\"eat\", \"tea\", \"tan\", \"ate\", \"nat\", \"bat\"]\n",
    "def word_fn(words):\n",
    "    result_list = []\n",
    "    grouper = defaultdict(list)\n",
    "    \n",
    "    for word in words:        \n",
    "        sort_word = \"\".join(sorted(word))\n",
    "        grouper[sort_word].append(word)\n",
    "\n",
    "    return (list(grouper.values()))\n",
    "    \n",
    "word_fn(words_list)"
   ]
  },
  {
   "cell_type": "markdown",
   "metadata": {},
   "source": [
    "# 4. 인자 갯수에 상관없이, 지정 함수의 실행시간을 출력하는 장식자\n",
    "\n",
    "\n",
    "```python\n",
    "import time\n",
    "\n",
    "def check_runtime(fn):\n",
    "    # TODO: ...\n",
    "\n",
    "@check_runtime\n",
    "def mysum(x, y):\n",
    "    time.sleep(2)\n",
    "    return x + y\n",
    "\n",
    "mysum(1, 2)\n",
    "```\n",
    "\n",
    "출력 : `약 2초가 소요`"
   ]
  },
  {
   "cell_type": "code",
   "execution_count": 4,
   "metadata": {},
   "outputs": [
    {
     "name": "stdout",
     "output_type": "stream",
     "text": [
      "약 2초가 소요\n"
     ]
    },
    {
     "data": {
      "text/plain": [
       "3"
      ]
     },
     "execution_count": 4,
     "metadata": {},
     "output_type": "execute_result"
    }
   ],
   "source": [
    "import time\n",
    "\n",
    "def check_runtime(fn):\n",
    "    # TODO: ...\n",
    "    def wrap(x = 0, y = 0):      \n",
    "        start_t = int(time.time())\n",
    "        ret = fn(x,y)\n",
    "        end_t = int(time.time())\n",
    "        print(f\"약 {end_t-start_t}초가 소요\")\n",
    "        return ret\n",
    "    return wrap\n",
    "\n",
    "@check_runtime\n",
    "def mysum(x, y):\n",
    "    time.sleep(2)\n",
    "    return x + y\n",
    "\n",
    "mysum(1, 2)"
   ]
  },
  {
   "cell_type": "markdown",
   "metadata": {},
   "source": [
    "# 5. Memoization\n",
    "\n",
    "다음의 함수들이 빠르게 동작할 수 있도록 `@memoize` 장식자를 함수버전과 클래스버전으로 만들어주세요. `RuntimeError: maximum recursion depth exceeded` 예외가 발생한다면 이 예외가 발생하지 않도록 설정해주세요."
   ]
  },
  {
   "cell_type": "code",
   "execution_count": 5,
   "metadata": {},
   "outputs": [],
   "source": [
    "import sys\n",
    "# RuntimeError: maximum recursion depth exceeded 예외가 발생하지 않도록 limit을 늘립니다.\n",
    "sys.setrecursionlimit(10000)"
   ]
  },
  {
   "cell_type": "code",
   "execution_count": 6,
   "metadata": {},
   "outputs": [],
   "source": [
    "# 함수버전, 클래스버전\n",
    "\n",
    "def memoize(fn):\n",
    "    cached = {}\n",
    "    def wrap(x, y=None):\n",
    "        key = (x, y)\n",
    "        if key not in cached:\n",
    "            if y is not None:\n",
    "                cached[key] = fn(x,y)\n",
    "            else:\n",
    "                cached[key] = fn(x)\n",
    "        return cached[key]\n",
    "    return wrap\n",
    "\n",
    "class Memoize:\n",
    "    def __init__(self, fn):\n",
    "        self.cached = {}\n",
    "        self.fn = fn\n",
    "        self.key = ()\n",
    "\n",
    "    def __call__(self, x, y=None):\n",
    "        key = (x, y)\n",
    "        if key not in self.cached:\n",
    "            if y is not None:\n",
    "                self.cached[key] = self.fn(x,y)\n",
    "            else:\n",
    "                self.cached[key] = self.fn(x)\n",
    "        return self.cached[key]\n",
    "\n",
    "@memoize\n",
    "def fib1(n):\n",
    "    if n in (1, 2):\n",
    "        return 1\n",
    "    return fib1(n-1) + fib1(n-2)\n",
    "\n",
    "@Memoize\n",
    "def fib2(n):\n",
    "    if n in (1, 2):\n",
    "        return 1\n",
    "    return fib2(n-1) + fib2(n-2)"
   ]
  },
  {
   "cell_type": "code",
   "execution_count": 7,
   "metadata": {},
   "outputs": [],
   "source": [
    "@memoize\n",
    "def mysum(x, y):\n",
    "    time.sleep(1)\n",
    "    return x + y\n",
    "\n",
    "@memoize\n",
    "def mymultiply(x, y):\n",
    "    time.sleep(1)\n",
    "    return x * y"
   ]
  },
  {
   "cell_type": "code",
   "execution_count": 8,
   "metadata": {},
   "outputs": [
    {
     "name": "stdout",
     "output_type": "stream",
     "text": [
      "43466557686937456435688527675040625802564660517371780402481729089536555417949051890403879840079255169295922593080322634775209689623239873322471161642996440906533187938298969649928516003704476137795166849228875\n",
      "43466557686937456435688527675040625802564660517371780402481729089536555417949051890403879840079255169295922593080322634775209689623239873322471161642996440906533187938298969649928516003704476137795166849228875\n",
      "3\n",
      "3\n",
      "3\n",
      "2\n",
      "2\n"
     ]
    }
   ],
   "source": [
    "print(fib1(1000))   # 1초 내외\n",
    "print(fib2(1000))   # 1초 내외\n",
    "print(mysum(1, 2))  # pure function\n",
    "print(mysum(1, 2))\n",
    "print(mysum(1, 2))\n",
    "print(mymultiply(1, 2))\n",
    "print(mymultiply(1, 2))"
   ]
  },
  {
   "cell_type": "code",
   "execution_count": null,
   "metadata": {},
   "outputs": [],
   "source": []
  },
  {
   "cell_type": "markdown",
   "metadata": {},
   "source": [
    "수고하셨습니다. - 이진석 (me@askcompany.kr)"
   ]
  }
 ],
 "metadata": {
  "kernelspec": {
   "display_name": "Python 3",
   "language": "python",
   "name": "python3"
  },
  "language_info": {
   "codemirror_mode": {
    "name": "ipython",
    "version": 3
   },
   "file_extension": ".py",
   "mimetype": "text/x-python",
   "name": "python",
   "nbconvert_exporter": "python",
   "pygments_lexer": "ipython3",
   "version": "3.8.3"
  }
 },
 "nbformat": 4,
 "nbformat_minor": 4
}
