{
 "cells": [
  {
   "cell_type": "code",
   "execution_count": 9,
   "metadata": {},
   "outputs": [],
   "source": [
    "import requests\n",
    "from bs4 import BeautifulSoup\n",
    "\n",
    "\n",
    "headers = {\n",
    "    'User-Agent': (\n",
    "        'Mozilla/5.0 (Macintosh; Intel Mac OS X 10_14_3) '\n",
    "        'AppleWebKit/537.36 (KHTML, like Gecko) '\n",
    "        'Chrome/72.0.3626.121 Safari/537.36'\n",
    "    ),\n",
    "}\n",
    "\n",
    "\n",
    "def get_like_count(song_no_list):\n",
    "    api_url = \"https://www.melon.com/commonlike/getSongLike.json\"\n",
    "    params = {\"contsIds\": song_no_list}\n",
    "    res = requests.get(api_url, params=params, headers=headers)\n",
    "    res.raise_for_status()\n",
    "    response = res.json()\n",
    "    like_list = response[\"contsLike\"]\n",
    "    like_dict = {\n",
    "        str(song[\"CONTSID\"]): song[\"SUMMCNT\"]\n",
    "        for song in like_list}\n",
    "    return like_dict\n",
    "\n",
    "\n",
    "def get_song_list():\n",
    "    res = requests.get(\"http://www.melon.com/chart/index.htm\", headers=headers)\n",
    "    res.raise_for_status()\n",
    "    html = res.text\n",
    "    soup = BeautifulSoup(html, 'html.parser')\n",
    "    tr_tag_list = soup.select('.d_song_list tbody tr')\n",
    "\n",
    "    song_list = []\n",
    "\n",
    "    for rank, tr_tag in enumerate(tr_tag_list, 1):\n",
    "        song_no = tr_tag[\"data-song-no\"]\n",
    "        song_tag = tr_tag.select_one('a[href*=playSong]')\n",
    "        album_tag = tr_tag.select_one('.wrap_song_info a[href*=goAlbumDetail]')\n",
    "        artist_tag = tr_tag.select_one('a[href*=goArtistDetail]')\n",
    "        \n",
    "        song = {\n",
    "            'song_no': song_no,\n",
    "            'title': song_tag.text,\n",
    "            'album': album_tag.text,\n",
    "            'artist': artist_tag.text,\n",
    "            'rank': rank,\n",
    "        }\n",
    "        song_list.append(song)\n",
    "\n",
    "    song_no_list = [song[\"song_no\"] for song in song_list]\n",
    "    like_dict = get_like_count(song_no_list)\n",
    "\n",
    "    for song in song_list:\n",
    "        like_count = like_dict[song[\"song_no\"]]\n",
    "        song[\"like\"] = like_count\n",
    "\n",
    "    return song_list"
   ]
  },
  {
   "cell_type": "code",
   "execution_count": 10,
   "metadata": {},
   "outputs": [],
   "source": [
    "melon_top100_list = get_song_list()\n",
    "melon_top100 = get_song_list()"
   ]
  },
  {
   "cell_type": "code",
   "execution_count": null,
   "metadata": {},
   "outputs": [],
   "source": []
  },
  {
   "cell_type": "code",
   "execution_count": null,
   "metadata": {},
   "outputs": [],
   "source": []
  },
  {
   "cell_type": "markdown",
   "metadata": {},
   "source": [
    "# f 객체에 대해서 슬라이싱 적용하기"
   ]
  },
  {
   "cell_type": "code",
   "execution_count": 55,
   "metadata": {
    "scrolled": true
   },
   "outputs": [
    {
     "name": "stdout",
     "output_type": "stream",
     "text": [
      "[0] ,song_no,title,album,artist,rank,like\n",
      "\n",
      "[1] 0,33077590,VVS (Feat. JUSTHIS) (Prod. GroovyRoom),쇼미더머니 9 Episode 1,미란이,1,96325\n",
      "\n",
      "[2] 1,32872978,Dynamite,Dynamite (DayTime Version),방탄소년단,2,360973\n",
      "\n",
      "[3] 2,33013877,잠이 오질 않네요,잠이 오질 않네요,장범준,3,82843\n",
      "\n",
      "[4] 3,33077234,Life Goes On,BE,방탄소년단,4,151888\n",
      "\n",
      "[5] 4,32998018,힘든 건 사랑이 아니다,힘든 건 사랑이 아니다,임창정,5,79274\n",
      "\n",
      "[6] 5,32961718,Lovesick Girls,THE ALBUM,BLACKPINK,6,150487\n",
      "\n",
      "[7] 6,32794652,취기를 빌려 (취향저격 그녀 X 산들),취기를 빌려 (취향저격 그녀 X 산들),산들,7,157119\n",
      "\n",
      "[8] 7,33061995,밤하늘의 별을(2020),밤하늘의 별을(2020),경서,8,42768\n",
      "\n",
      "[9] 8,33077591,Freak (Prod. Slom),쇼미더머니 9 Episode 1,릴보이 (lIlBOI),9,36493\n",
      "\n"
     ]
    }
   ],
   "source": [
    "from itertools import islice\n",
    "\n",
    "with open(\"melon_top100.csv\", \"rt\") as f:\n",
    "    # TODO: 줄 단위로 읽어서 출력해보세요.\n",
    "\n",
    "#     for index, line in islice(enumerate(f),10):   # 파일객체는 Iterable\n",
    "#         print(f\"[{index}]\", line)\n",
    "#         if index >= 10:\n",
    "#             break\n",
    "            \n",
    "    for index, line in islice(enumerate(f),10):   # 파일객체는 Iterable\n",
    "        print(f\"[{index}]\", line)"
   ]
  },
  {
   "cell_type": "code",
   "execution_count": null,
   "metadata": {},
   "outputs": [],
   "source": []
  },
  {
   "cell_type": "markdown",
   "metadata": {},
   "source": [
    "# [(과제) CSV 파일을 생성하고, 엑셀에서 열어보기](https://pnu.nomade.kr/CSV-b531d9bdee33471c8da2bcd410448da4)"
   ]
  },
  {
   "cell_type": "code",
   "execution_count": 54,
   "metadata": {},
   "outputs": [],
   "source": [
    "import csv\n",
    "filename = os.path.basename(\"melon_top100_list.csv\")\n",
    "keys = melon_top100_list[0].keys()\n",
    "with open(filename, 'w', encoding='utf-8-sig', newline='')  as f:\n",
    "    dict_writer = csv.DictWriter(f, keys)\n",
    "    dict_writer.writeheader()\n",
    "    dict_writer.writerows(melon_top100_list)"
   ]
  },
  {
   "cell_type": "code",
   "execution_count": null,
   "metadata": {},
   "outputs": [],
   "source": []
  }
 ],
 "metadata": {
  "kernelspec": {
   "display_name": "Python 3",
   "language": "python",
   "name": "python3"
  },
  "language_info": {
   "codemirror_mode": {
    "name": "ipython",
    "version": 3
   },
   "file_extension": ".py",
   "mimetype": "text/x-python",
   "name": "python",
   "nbconvert_exporter": "python",
   "pygments_lexer": "ipython3",
   "version": "3.8.3"
  }
 },
 "nbformat": 4,
 "nbformat_minor": 4
}
