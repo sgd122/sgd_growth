{
 "cells": [
  {
   "cell_type": "code",
   "execution_count": 130,
   "metadata": {},
   "outputs": [],
   "source": [
    "import requests\n",
    "from bs4 import BeautifulSoup\n",
    "\n",
    "\n",
    "headers = {\n",
    "    'User-Agent': (\n",
    "        'Mozilla/5.0 (Macintosh; Intel Mac OS X 10_14_3) '\n",
    "        'AppleWebKit/537.36 (KHTML, like Gecko) '\n",
    "        'Chrome/72.0.3626.121 Safari/537.36'\n",
    "    ),\n",
    "}\n",
    "\n",
    "\n",
    "def get_like_count(song_no_list):\n",
    "    api_url = \"https://www.melon.com/commonlike/getSongLike.json\"\n",
    "    params = {\"contsIds\": song_no_list}\n",
    "    res = requests.get(api_url, params=params, headers=headers)\n",
    "    res.raise_for_status()\n",
    "    response = res.json()\n",
    "    like_list = response[\"contsLike\"]\n",
    "    like_dict = {\n",
    "        str(song[\"CONTSID\"]): song[\"SUMMCNT\"]\n",
    "        for song in like_list}\n",
    "    return like_dict\n",
    "\n",
    "\n",
    "def get_song_list():\n",
    "    res = requests.get(\"http://www.melon.com/chart/index.htm\", headers=headers)\n",
    "    res.raise_for_status()\n",
    "    html = res.text\n",
    "    soup = BeautifulSoup(html, 'html.parser')\n",
    "    tr_tag_list = soup.select('.d_song_list tbody tr')\n",
    "\n",
    "    song_list = []\n",
    "\n",
    "    for rank, tr_tag in enumerate(tr_tag_list, 1):\n",
    "        song_no = tr_tag[\"data-song-no\"]\n",
    "        song_tag = tr_tag.select_one('a[href*=playSong]')\n",
    "        album_tag = tr_tag.select_one('.wrap_song_info a[href*=goAlbumDetail]')\n",
    "        artist_tag = tr_tag.select_one('a[href*=goArtistDetail]')\n",
    "        \n",
    "        song = {\n",
    "            'song_no': song_no,\n",
    "            'title': song_tag.text,\n",
    "            'album': album_tag.text,\n",
    "            'artist': artist_tag.text,\n",
    "            'rank': rank,\n",
    "        }\n",
    "        song_list.append(song)\n",
    "\n",
    "    song_no_list = [song[\"song_no\"] for song in song_list]\n",
    "    like_dict = get_like_count(song_no_list)\n",
    "\n",
    "    for song in song_list:\n",
    "        like_count = like_dict[song[\"song_no\"]]\n",
    "        song[\"like\"] = like_count\n",
    "\n",
    "    return song_list"
   ]
  },
  {
   "cell_type": "code",
   "execution_count": 131,
   "metadata": {},
   "outputs": [],
   "source": [
    "melon_top100_list = get_song_list()"
   ]
  },
  {
   "cell_type": "code",
   "execution_count": null,
   "metadata": {},
   "outputs": [],
   "source": []
  },
  {
   "cell_type": "code",
   "execution_count": null,
   "metadata": {},
   "outputs": [],
   "source": []
  },
  {
   "cell_type": "code",
   "execution_count": null,
   "metadata": {},
   "outputs": [],
   "source": []
  },
  {
   "cell_type": "code",
   "execution_count": 1,
   "metadata": {},
   "outputs": [],
   "source": [
    "from collections import defaultdict"
   ]
  },
  {
   "cell_type": "code",
   "execution_count": 2,
   "metadata": {},
   "outputs": [],
   "source": [
    "artist_dict = defaultdict(int)"
   ]
  },
  {
   "cell_type": "code",
   "execution_count": 4,
   "metadata": {},
   "outputs": [
    {
     "data": {
      "text/plain": [
       "0"
      ]
     },
     "execution_count": 4,
     "metadata": {},
     "output_type": "execute_result"
    }
   ],
   "source": [
    "artist_dict[\"t\"]"
   ]
  },
  {
   "cell_type": "code",
   "execution_count": null,
   "metadata": {},
   "outputs": [],
   "source": []
  },
  {
   "cell_type": "markdown",
   "metadata": {},
   "source": [
    "# 함수"
   ]
  },
  {
   "cell_type": "code",
   "execution_count": 11,
   "metadata": {},
   "outputs": [
    {
     "name": "stdout",
     "output_type": "stream",
     "text": [
      "안녕 sgd\n"
     ]
    }
   ],
   "source": [
    "class Person:\n",
    "    def say_hello(self, name, age=None):\n",
    "        print(f\"안녕 {name}\")\n",
    "\n",
    "Person().say_hello(\"sgd\")"
   ]
  },
  {
   "cell_type": "code",
   "execution_count": 6,
   "metadata": {},
   "outputs": [],
   "source": [
    "def mysum(x: int, y: int) -> int:\n",
    "    return x + y + 10"
   ]
  },
  {
   "cell_type": "code",
   "execution_count": 7,
   "metadata": {},
   "outputs": [
    {
     "data": {
      "text/plain": [
       "13"
      ]
     },
     "execution_count": 7,
     "metadata": {},
     "output_type": "execute_result"
    }
   ],
   "source": [
    "mysum(1, 2)"
   ]
  },
  {
   "cell_type": "code",
   "execution_count": null,
   "metadata": {},
   "outputs": [],
   "source": []
  },
  {
   "cell_type": "code",
   "execution_count": 15,
   "metadata": {},
   "outputs": [],
   "source": [
    "def 부가세_계산2(결제금액):\n",
    "    부가세 = 결제금액 // 11\n",
    "    부가세_제외금액 = 결제금액 - 부가세\n",
    "    # 2개 값을 반환하는 듯 하지만, 실제 1개의 tuple\n",
    "    return 부가세_제외금액, 부가세\n",
    "\n",
    "금액1,금액2 = 부가세_계산2(20000)"
   ]
  },
  {
   "cell_type": "code",
   "execution_count": 16,
   "metadata": {},
   "outputs": [
    {
     "data": {
      "text/plain": [
       "18182"
      ]
     },
     "execution_count": 16,
     "metadata": {},
     "output_type": "execute_result"
    }
   ],
   "source": [
    "금액1"
   ]
  },
  {
   "cell_type": "code",
   "execution_count": 18,
   "metadata": {},
   "outputs": [
    {
     "data": {
      "text/plain": [
       "1818"
      ]
     },
     "execution_count": 18,
     "metadata": {},
     "output_type": "execute_result"
    }
   ],
   "source": [
    "금액2"
   ]
  },
  {
   "cell_type": "code",
   "execution_count": null,
   "metadata": {},
   "outputs": [],
   "source": []
  },
  {
   "cell_type": "code",
   "execution_count": 19,
   "metadata": {},
   "outputs": [],
   "source": [
    "# Type Hinting 버전\n",
    "\n",
    "from typing import Tuple\n",
    "\n",
    "def 부가세_계산2(결제금액: int) -> Tuple[int, int]:\n",
    "    부가세 = 결제금액 // 11\n",
    "    부가세_제외금액 = 결제금액 - 부가세\n",
    "    return 부가세_제외금액, 부가세"
   ]
  },
  {
   "cell_type": "code",
   "execution_count": 21,
   "metadata": {},
   "outputs": [
    {
     "data": {
      "text/plain": [
       "(18182, 1818)"
      ]
     },
     "execution_count": 21,
     "metadata": {},
     "output_type": "execute_result"
    }
   ],
   "source": [
    "부가세_계산2(20000)"
   ]
  },
  {
   "cell_type": "code",
   "execution_count": null,
   "metadata": {},
   "outputs": [],
   "source": []
  },
  {
   "cell_type": "code",
   "execution_count": 22,
   "metadata": {},
   "outputs": [],
   "source": [
    "def mysum(x, y):\n",
    "    return x + y * 10"
   ]
  },
  {
   "cell_type": "code",
   "execution_count": 27,
   "metadata": {
    "scrolled": true
   },
   "outputs": [
    {
     "name": "stdout",
     "output_type": "stream",
     "text": [
      "21\n",
      "12\n",
      "21\n"
     ]
    }
   ],
   "source": [
    "print(mysum(1,2))\n",
    "print(mysum(2,1))\n",
    "print(mysum(y=2,x=1))"
   ]
  },
  {
   "cell_type": "code",
   "execution_count": null,
   "metadata": {},
   "outputs": [],
   "source": []
  },
  {
   "cell_type": "code",
   "execution_count": 32,
   "metadata": {},
   "outputs": [],
   "source": [
    "def 봉급계산(기본급, 야근시간=0):\n",
    "    return 기본급 + 야근시간 * 8000 "
   ]
  },
  {
   "cell_type": "code",
   "execution_count": 33,
   "metadata": {},
   "outputs": [
    {
     "data": {
      "text/plain": [
       "960000"
      ]
     },
     "execution_count": 33,
     "metadata": {},
     "output_type": "execute_result"
    }
   ],
   "source": [
    "봉급계산(800000, 20)"
   ]
  },
  {
   "cell_type": "code",
   "execution_count": 31,
   "metadata": {},
   "outputs": [
    {
     "data": {
      "text/plain": [
       "960000"
      ]
     },
     "execution_count": 31,
     "metadata": {},
     "output_type": "execute_result"
    }
   ],
   "source": [
    "봉급계산(800000, 야근시간=20)"
   ]
  },
  {
   "cell_type": "code",
   "execution_count": 34,
   "metadata": {},
   "outputs": [
    {
     "data": {
      "text/plain": [
       "800000"
      ]
     },
     "execution_count": 34,
     "metadata": {},
     "output_type": "execute_result"
    }
   ],
   "source": [
    "봉급계산(800000)"
   ]
  },
  {
   "cell_type": "code",
   "execution_count": null,
   "metadata": {},
   "outputs": [],
   "source": []
  },
  {
   "cell_type": "code",
   "execution_count": 35,
   "metadata": {},
   "outputs": [
    {
     "name": "stdout",
     "output_type": "stream",
     "text": [
      "['사과', '바나나']\n",
      "['사과', '바나나']\n"
     ]
    }
   ],
   "source": [
    "def 리스트에_항목_추가(항목, 추가할_리스트=[]):\n",
    "    추가할_리스트.append(항목)\n",
    "    return 추가할_리스트\n",
    "\n",
    "list1 = 리스트에_항목_추가(\"사과\")\n",
    "list2 = 리스트에_항목_추가(\"바나나\")\n",
    "\n",
    "print(list1)\n",
    "print(list2)"
   ]
  },
  {
   "cell_type": "code",
   "execution_count": 36,
   "metadata": {},
   "outputs": [
    {
     "name": "stdout",
     "output_type": "stream",
     "text": [
      "['사과']\n",
      "['바나나']\n"
     ]
    }
   ],
   "source": [
    "def 리스트에_항목_추가(항목, 추가할_리스트=None):\n",
    "    if 추가할_리스트 is None:\n",
    "        추가할_리스트 = []\n",
    "        \n",
    "    추가할_리스트.append(항목)\n",
    "    return 추가할_리스트\n",
    "\n",
    "list1 = 리스트에_항목_추가(\"사과\")\n",
    "list2 = 리스트에_항목_추가(\"바나나\")\n",
    "\n",
    "print(list1)\n",
    "print(list2)"
   ]
  },
  {
   "cell_type": "code",
   "execution_count": null,
   "metadata": {},
   "outputs": [],
   "source": []
  },
  {
   "cell_type": "code",
   "execution_count": 41,
   "metadata": {},
   "outputs": [
    {
     "data": {
      "text/plain": [
       "12"
      ]
     },
     "execution_count": 41,
     "metadata": {},
     "output_type": "execute_result"
    }
   ],
   "source": [
    "(lambda x, y: 10 * x + y)(1,2)"
   ]
  },
  {
   "cell_type": "code",
   "execution_count": 39,
   "metadata": {},
   "outputs": [
    {
     "data": {
      "text/plain": [
       "12"
      ]
     },
     "execution_count": 39,
     "metadata": {},
     "output_type": "execute_result"
    }
   ],
   "source": [
    "def fn(x, y):\n",
    "    return 10 * x + y\n",
    "\n",
    "fn(1,2)"
   ]
  },
  {
   "cell_type": "code",
   "execution_count": null,
   "metadata": {},
   "outputs": [],
   "source": []
  },
  {
   "cell_type": "markdown",
   "metadata": {},
   "source": [
    "# 일급 함수/클래스"
   ]
  },
  {
   "cell_type": "code",
   "execution_count": 42,
   "metadata": {},
   "outputs": [
    {
     "name": "stdout",
     "output_type": "stream",
     "text": [
      "10\n",
      "10\n"
     ]
    }
   ],
   "source": [
    "from functools import reduce\n",
    "\n",
    "\n",
    "def reducer1(x, y):\n",
    "    return x + y\n",
    "\n",
    "print(reduce(reducer1, [1, 2, 3, 4]))  # 10\n",
    "\n",
    "\n",
    "print(reduce(lambda x, y: x + y, [1, 2, 3, 4]))  # 10"
   ]
  },
  {
   "cell_type": "code",
   "execution_count": null,
   "metadata": {},
   "outputs": [],
   "source": []
  },
  {
   "cell_type": "code",
   "execution_count": 65,
   "metadata": {},
   "outputs": [
    {
     "name": "stdout",
     "output_type": "stream",
     "text": [
      "\n",
      "    가수: 방탄소년단\n",
      "    제목: 봄날\n",
      "    좋아요: 912355\n",
      "    \n"
     ]
    }
   ],
   "source": [
    "def fn():\n",
    "    song = {\n",
    "        \"song_no\":\"3333\",\n",
    "        \"title\":\"봄날\",\n",
    "        \"album\":\"yyoo\",\n",
    "        \"artist\":\"artist\"\n",
    "    }\n",
    "\n",
    "    TEMPLATE = \"\"\"\n",
    "    가수: {artist}\n",
    "    제목: {title}\n",
    "    좋아요: {like}\n",
    "    \"\"\"\n",
    "\n",
    "    artist = \"방탄소년단\"\n",
    "    song_no = \"1111\"\n",
    "    title = \"봄날\"\n",
    "    album = \"111\"\n",
    "    rank = 45\n",
    "    like = 912355\n",
    "\n",
    "    context = {\n",
    "        \"song_no\": song_no,\n",
    "        \"title\": title,\n",
    "        \"album\": album,\n",
    "        \"rank\": rank,\n",
    "        \"like\": like,\n",
    "        \"artist\": artist\n",
    "    }\n",
    "\n",
    "    return TEMPLATE.format(**context)\n",
    "    \n",
    "print(fn())"
   ]
  },
  {
   "cell_type": "code",
   "execution_count": null,
   "metadata": {},
   "outputs": [],
   "source": []
  },
  {
   "cell_type": "markdown",
   "metadata": {},
   "source": [
    "# (실습)함수"
   ]
  },
  {
   "cell_type": "markdown",
   "metadata": {},
   "source": [
    "# 문자열을 인자로 받아, 단어수를 반환하는 함수를 작성하세요.\n",
    "\n",
    "- 예) \"우리는 파이썬을 즐겨요\"를 인자로 받아, 3을 반환\n",
    "- 힌트) `\"파이썬 자동화\".split()`"
   ]
  },
  {
   "cell_type": "code",
   "execution_count": 70,
   "metadata": {},
   "outputs": [],
   "source": [
    "def strLen(문자열):\n",
    "    return len(문자열.split())"
   ]
  },
  {
   "cell_type": "code",
   "execution_count": 71,
   "metadata": {},
   "outputs": [
    {
     "data": {
      "text/plain": [
       "3"
      ]
     },
     "execution_count": 71,
     "metadata": {},
     "output_type": "execute_result"
    }
   ],
   "source": [
    "strLen(\"우리는 파이썬을 즐겨요\")"
   ]
  },
  {
   "cell_type": "markdown",
   "metadata": {},
   "source": [
    "# 문자열을 인자로 받아, 공백을 제외한 글자를 반환하는 함수를 작성하세요.\n",
    "\n",
    "- 예) \"우리는 파이썬을 즐겨요\"를 인자로 받아, 10을 반환\n",
    "- 힌트) 문자열은 순회가능한 객체"
   ]
  },
  {
   "cell_type": "code",
   "execution_count": 103,
   "metadata": {},
   "outputs": [],
   "source": [
    "def strLenNblank(문자열):\n",
    "    returnVlaue = \"\"\n",
    "    for str in 문자열:\n",
    "        returnVlaue += str.strip()\n",
    "    return len(returnVlaue)\n",
    "\n",
    "def fn2(s):\n",
    "    return len([ch for ch in s if ch != ' '])\n",
    "\n",
    "import re\n",
    "def fn2_1(s):\n",
    "    return len(re.sub(r\"\\s+\", \"\", s))"
   ]
  },
  {
   "cell_type": "code",
   "execution_count": 105,
   "metadata": {},
   "outputs": [
    {
     "data": {
      "text/plain": [
       "10"
      ]
     },
     "execution_count": 105,
     "metadata": {},
     "output_type": "execute_result"
    }
   ],
   "source": [
    "strLenNblank(\"우리는 파이썬을 즐겨요\")"
   ]
  },
  {
   "cell_type": "code",
   "execution_count": 106,
   "metadata": {},
   "outputs": [
    {
     "data": {
      "text/plain": [
       "10"
      ]
     },
     "execution_count": 106,
     "metadata": {},
     "output_type": "execute_result"
    }
   ],
   "source": [
    "fn2(\"우리는 파이썬을 즐겨요\")"
   ]
  },
  {
   "cell_type": "code",
   "execution_count": 107,
   "metadata": {},
   "outputs": [
    {
     "data": {
      "text/plain": [
       "10"
      ]
     },
     "execution_count": 107,
     "metadata": {},
     "output_type": "execute_result"
    }
   ],
   "source": [
    "fn2_1(\"우리는 파이썬을 즐겨요\")"
   ]
  },
  {
   "cell_type": "markdown",
   "metadata": {},
   "source": [
    "# 자연수를 인자로 받아, 천단위 절사한 값을 리턴하는 함수를 작성하세요.\n",
    "\n",
    "- 예) 정수 1234567을 인자로 받아, 1234000을 반환"
   ]
  },
  {
   "cell_type": "code",
   "execution_count": 116,
   "metadata": {},
   "outputs": [
    {
     "data": {
      "text/plain": [
       "1234000"
      ]
     },
     "execution_count": 116,
     "metadata": {},
     "output_type": "execute_result"
    }
   ],
   "source": [
    "def fn3(number):\n",
    "    return (number//1000) * 1000\n",
    "fn3(1234567)"
   ]
  },
  {
   "cell_type": "code",
   "execution_count": null,
   "metadata": {},
   "outputs": [],
   "source": []
  },
  {
   "cell_type": "markdown",
   "metadata": {},
   "source": [
    "# 클로저"
   ]
  },
  {
   "cell_type": "code",
   "execution_count": 123,
   "metadata": {},
   "outputs": [],
   "source": [
    "def make_fn(base):\n",
    "    lambda_fn = lambda x, y: x + y + base\n",
    "    def fn(x, y):\n",
    "        return base + x + y\n",
    "    return fn"
   ]
  },
  {
   "cell_type": "code",
   "execution_count": 119,
   "metadata": {},
   "outputs": [],
   "source": [
    "ret1 = make_fn(1)"
   ]
  },
  {
   "cell_type": "code",
   "execution_count": 122,
   "metadata": {},
   "outputs": [
    {
     "name": "stdout",
     "output_type": "stream",
     "text": [
      "4\n",
      "6\n",
      "8\n"
     ]
    }
   ],
   "source": [
    "print(ret1(1,2))\n",
    "print(ret1(2,3))\n",
    "print(ret1(3,4))"
   ]
  },
  {
   "cell_type": "code",
   "execution_count": 121,
   "metadata": {},
   "outputs": [
    {
     "data": {
      "text/plain": [
       "4"
      ]
     },
     "execution_count": 121,
     "metadata": {},
     "output_type": "execute_result"
    }
   ],
   "source": [
    "make_fn(1)(1,2)"
   ]
  },
  {
   "cell_type": "code",
   "execution_count": null,
   "metadata": {},
   "outputs": [],
   "source": []
  },
  {
   "cell_type": "markdown",
   "metadata": {},
   "source": [
    "# (실습) 빌트인 함수 및 정렬"
   ]
  },
  {
   "cell_type": "markdown",
   "metadata": {},
   "source": [
    "## sorted : 정렬"
   ]
  },
  {
   "cell_type": "code",
   "execution_count": 124,
   "metadata": {},
   "outputs": [
    {
     "data": {
      "text/plain": [
       "['가', '다', '라', '마', '바', '바', '사']"
      ]
     },
     "execution_count": 124,
     "metadata": {},
     "output_type": "execute_result"
    }
   ],
   "source": [
    "sorted(\"마가바다라바사\")"
   ]
  },
  {
   "cell_type": "code",
   "execution_count": 125,
   "metadata": {},
   "outputs": [],
   "source": [
    "number_list = [25, 19, 45, 32]"
   ]
  },
  {
   "cell_type": "code",
   "execution_count": 126,
   "metadata": {},
   "outputs": [
    {
     "data": {
      "text/plain": [
       "[45, 32, 25, 19]"
      ]
     },
     "execution_count": 126,
     "metadata": {},
     "output_type": "execute_result"
    }
   ],
   "source": [
    "sorted(number_list, reverse=True)"
   ]
  },
  {
   "cell_type": "code",
   "execution_count": 128,
   "metadata": {},
   "outputs": [
    {
     "data": {
      "text/plain": [
       "[32, 25, 45, 19]"
      ]
     },
     "execution_count": 128,
     "metadata": {},
     "output_type": "execute_result"
    }
   ],
   "source": [
    "def sort_fn(value): # 5, 2, 5, 9\n",
    "    return value % 10\n",
    "sorted(number_list, key=sort_fn)"
   ]
  },
  {
   "cell_type": "markdown",
   "metadata": {},
   "source": [
    "## filter : 필터링"
   ]
  },
  {
   "cell_type": "code",
   "execution_count": 132,
   "metadata": {},
   "outputs": [
    {
     "data": {
      "text/plain": [
       "<filter at 0x7fef603fef70>"
      ]
     },
     "execution_count": 132,
     "metadata": {},
     "output_type": "execute_result"
    }
   ],
   "source": [
    "filter(\n",
    "    lambda song: song[\"artist\"] == \"방탄소년단\",\n",
    "    melon_top100_list\n",
    ")"
   ]
  },
  {
   "cell_type": "code",
   "execution_count": 134,
   "metadata": {},
   "outputs": [
    {
     "name": "stdout",
     "output_type": "stream",
     "text": [
      "360973\n",
      "151888\n",
      "406448\n",
      "90768\n",
      "91384\n",
      "516137\n",
      "84610\n",
      "253278\n",
      "79719\n",
      "80551\n"
     ]
    }
   ],
   "source": [
    "iter0 = filter(\n",
    "    lambda song: song[\"artist\"] == \"방탄소년단\",\n",
    "    melon_top100_list\n",
    ")\n",
    "\n",
    "iter1 = map(\n",
    "    lambda song: song[\"like\"],\n",
    "    iter0,\n",
    ")\n",
    "\n",
    "for row in iter1:\n",
    "    print(row)"
   ]
  },
  {
   "cell_type": "markdown",
   "metadata": {},
   "source": [
    "# 1. 멜론TOP100 리스트에서 \"곡명\" 단어수 출력"
   ]
  },
  {
   "cell_type": "code",
   "execution_count": 139,
   "metadata": {
    "scrolled": true
   },
   "outputs": [
    {
     "name": "stdout",
     "output_type": "stream",
     "text": [
      "38\n",
      "8\n",
      "9\n",
      "12\n",
      "12\n",
      "14\n",
      "21\n",
      "13\n",
      "18\n",
      "6\n",
      "44\n",
      "14\n",
      "28\n",
      "13\n",
      "28\n",
      "25\n",
      "4\n",
      "30\n",
      "15\n",
      "27\n",
      "24\n",
      "9\n",
      "25\n",
      "23\n",
      "17\n",
      "17\n",
      "7\n",
      "16\n",
      "3\n",
      "11\n",
      "41\n",
      "8\n",
      "6\n",
      "16\n",
      "37\n",
      "11\n",
      "5\n",
      "2\n",
      "11\n",
      "13\n",
      "12\n",
      "8\n",
      "19\n",
      "16\n",
      "13\n",
      "40\n",
      "2\n",
      "34\n",
      "31\n",
      "11\n",
      "7\n",
      "5\n",
      "19\n",
      "7\n",
      "4\n",
      "16\n",
      "3\n",
      "9\n",
      "2\n",
      "12\n",
      "3\n",
      "4\n",
      "2\n",
      "3\n",
      "15\n",
      "9\n",
      "2\n",
      "4\n",
      "26\n",
      "5\n",
      "1\n",
      "13\n",
      "9\n",
      "16\n",
      "9\n",
      "4\n",
      "13\n",
      "2\n",
      "11\n",
      "18\n",
      "20\n",
      "6\n",
      "17\n",
      "19\n",
      "11\n",
      "3\n",
      "7\n",
      "7\n",
      "4\n",
      "3\n",
      "20\n",
      "21\n",
      "29\n",
      "15\n",
      "10\n",
      "7\n",
      "6\n",
      "7\n",
      "10\n",
      "15\n"
     ]
    }
   ],
   "source": [
    "iter3 = map(\n",
    "    lambda song: len(song[\"title\"]),\n",
    "    melon_top100_list\n",
    ")\n",
    "\n",
    "for row in iter3:\n",
    "    print(row)"
   ]
  },
  {
   "cell_type": "markdown",
   "metadata": {},
   "source": [
    "# 2. 멜론TOP100 리스트에서 \"곡명\" 단어수로 TOP10 곡명 출력"
   ]
  },
  {
   "cell_type": "code",
   "execution_count": 163,
   "metadata": {},
   "outputs": [
    {
     "data": {
      "text/plain": [
       "['Savage Love (Laxed - Siren Beat) (BTS Remix)',\n",
       " '작은 것들을 위한 시 (Boy With Luv) (Feat. Halsey)',\n",
       " '오늘도 빛나는 너에게 (To You My Light) (Feat.이라온)',\n",
       " 'VVS (Feat. JUSTHIS) (Prod. GroovyRoom)',\n",
       " '모든 날, 모든 순간 (Every day, Every Moment)',\n",
       " '윈윈 (Feat. 개코, BewhY) (Prod. BewhY)',\n",
       " 'All I Want For Christmas Is You',\n",
       " '원해 (Feat. 팔로알토) (Prod. 코드 쿤스트)',\n",
       " 'Ice Cream (with Selena Gomez)',\n",
       " '내 마음이 움찔했던 순간 (취향저격 그녀 X 규현)']"
      ]
     },
     "execution_count": 163,
     "metadata": {},
     "output_type": "execute_result"
    }
   ],
   "source": [
    "iter3 = map(\n",
    "    lambda song: (len(song[\"title\"]),song[\"title\"]),\n",
    "    melon_top100_list\n",
    ")\n",
    "\n",
    "def sort_fn(song):\n",
    "    return song[0]\n",
    "\n",
    "list(map(\n",
    "    lambda song: song[1],\n",
    "    sorted(iter3, key=sort_fn, reverse=True)[:10]\n",
    "))"
   ]
  },
  {
   "cell_type": "code",
   "execution_count": 200,
   "metadata": {},
   "outputs": [
    {
     "data": {
      "text/plain": [
       "['작은 것들을 위한 시 (Boy With Luv) (Feat. Halsey)',\n",
       " 'Savage Love (Laxed - Siren Beat) (BTS Remix)',\n",
       " '내 마음이 움찔했던 순간 (취향저격 그녀 X 규현)',\n",
       " '모든 날, 모든 순간 (Every day, Every Moment)',\n",
       " '오늘도 빛나는 너에게 (To You My Light) (Feat.이라온)',\n",
       " '나랑 같이 걸을래 (바른연애 길잡이 X 적재)',\n",
       " 'All I Want For Christmas Is You',\n",
       " '사랑 못해, 남들 쉽게 다 하는 거',\n",
       " '별을 담은 시 (Ode To The Stars)',\n",
       " '취기를 빌려 (취향저격 그녀 X 산들)']"
      ]
     },
     "execution_count": 200,
     "metadata": {},
     "output_type": "execute_result"
    }
   ],
   "source": [
    "list(\n",
    "    map(\n",
    "        lambda song: song[\"title\"],\n",
    "        sorted(\n",
    "            melon_top100_list,\n",
    "            key=lambda song: len(song[\"title\"].split()),\n",
    "            reverse=True\n",
    "        )[:10]\n",
    "    )\n",
    ")"
   ]
  },
  {
   "cell_type": "code",
   "execution_count": null,
   "metadata": {},
   "outputs": [],
   "source": []
  },
  {
   "cell_type": "code",
   "execution_count": 164,
   "metadata": {},
   "outputs": [
    {
     "data": {
      "text/plain": [
       "{'song_no': '30244931',\n",
       " 'title': '봄날',\n",
       " 'album': 'YOU NEVER WALK ALONE',\n",
       " 'artist': '방탄소년단',\n",
       " 'rank': 47,\n",
       " 'like': 516137}"
      ]
     },
     "execution_count": 164,
     "metadata": {},
     "output_type": "execute_result"
    }
   ],
   "source": [
    "max(\n",
    "    melon_top100_list,\n",
    "    key=lambda song: song[\"like\"]\n",
    ")"
   ]
  },
  {
   "cell_type": "code",
   "execution_count": 165,
   "metadata": {
    "collapsed": true
   },
   "outputs": [
    {
     "data": {
      "text/plain": [
       "{'song_no': '33077590',\n",
       " 'title': 'VVS (Feat. JUSTHIS) (Prod. GroovyRoom)',\n",
       " 'album': '쇼미더머니 9 Episode 1',\n",
       " 'artist': '미란이',\n",
       " 'rank': 1,\n",
       " 'like': 96325}"
      ]
     },
     "execution_count": 165,
     "metadata": {},
     "output_type": "execute_result"
    }
   ],
   "source": [
    "min(\n",
    "    melon_top100_list,\n",
    "    key=lambda song: song[\"rank\"]\n",
    ")"
   ]
  },
  {
   "cell_type": "markdown",
   "metadata": {},
   "source": [
    "# 1. \"좋아요\" 수가 가장 많은 곡은? 가장 작은 곡은?"
   ]
  },
  {
   "cell_type": "code",
   "execution_count": 166,
   "metadata": {},
   "outputs": [
    {
     "data": {
      "text/plain": [
       "{'song_no': '30244931',\n",
       " 'title': '봄날',\n",
       " 'album': 'YOU NEVER WALK ALONE',\n",
       " 'artist': '방탄소년단',\n",
       " 'rank': 47,\n",
       " 'like': 516137}"
      ]
     },
     "execution_count": 166,
     "metadata": {},
     "output_type": "execute_result"
    }
   ],
   "source": [
    "max(\n",
    "    melon_top100_list,\n",
    "    key=lambda song: song[\"like\"]\n",
    ")"
   ]
  },
  {
   "cell_type": "code",
   "execution_count": 169,
   "metadata": {},
   "outputs": [
    {
     "data": {
      "text/plain": [
       "{'song_no': '33027247',\n",
       " 'title': '너의 곁에만 맴돌아',\n",
       " 'album': '너의 곁에만 맴돌아',\n",
       " 'artist': '노을',\n",
       " 'rank': 95,\n",
       " 'like': 13498}"
      ]
     },
     "execution_count": 169,
     "metadata": {},
     "output_type": "execute_result"
    }
   ],
   "source": [
    "min(\n",
    "    melon_top100_list,\n",
    "    key=lambda song: song[\"like\"]\n",
    ")"
   ]
  },
  {
   "cell_type": "markdown",
   "metadata": {},
   "source": [
    "# 2. \"곡명\" 단어수가 가장 많은 곡은? 가장 작은 곡은?"
   ]
  },
  {
   "cell_type": "code",
   "execution_count": 172,
   "metadata": {},
   "outputs": [
    {
     "data": {
      "text/plain": [
       "{'song_no': '32998018',\n",
       " 'title': '힘든 건 사랑이 아니다',\n",
       " 'album': '힘든 건 사랑이 아니다',\n",
       " 'artist': '임창정',\n",
       " 'rank': 5,\n",
       " 'like': 79274}"
      ]
     },
     "execution_count": 172,
     "metadata": {},
     "output_type": "execute_result"
    }
   ],
   "source": [
    "max(\n",
    "    melon_top100_list,\n",
    "    key=lambda song: song[\"title\"].split()\n",
    ")"
   ]
  },
  {
   "cell_type": "code",
   "execution_count": 173,
   "metadata": {},
   "outputs": [
    {
     "data": {
      "text/plain": [
       "{'song_no': '31509376',\n",
       " 'title': '12:45 (Stripped)',\n",
       " 'album': '12:45 (Stripped)',\n",
       " 'artist': 'Etham',\n",
       " 'rank': 74,\n",
       " 'like': 97130}"
      ]
     },
     "execution_count": 173,
     "metadata": {},
     "output_type": "execute_result"
    }
   ],
   "source": [
    "min(\n",
    "    melon_top100_list,\n",
    "    key=lambda song: song[\"title\"].split()\n",
    ")"
   ]
  },
  {
   "cell_type": "markdown",
   "metadata": {},
   "source": [
    "# 3. \"곡명\" 글자수가 가장 많은 곡은? 가장 작은 곡은?"
   ]
  },
  {
   "cell_type": "code",
   "execution_count": 170,
   "metadata": {},
   "outputs": [
    {
     "data": {
      "text/plain": [
       "{'song_no': '32962258',\n",
       " 'title': 'Savage Love (Laxed - Siren Beat) (BTS Remix)',\n",
       " 'album': 'Savage Love (Laxed - Siren Beat) [BTS Remix]',\n",
       " 'artist': 'Jawsh 685',\n",
       " 'rank': 11,\n",
       " 'like': 128625}"
      ]
     },
     "execution_count": 170,
     "metadata": {},
     "output_type": "execute_result"
    }
   ],
   "source": [
    "max(\n",
    "    melon_top100_list,\n",
    "    key=lambda song: len(song[\"title\"])\n",
    ")"
   ]
  },
  {
   "cell_type": "code",
   "execution_count": 171,
   "metadata": {},
   "outputs": [
    {
     "data": {
      "text/plain": [
       "{'song_no': '33077239',\n",
       " 'title': '병',\n",
       " 'album': 'BE',\n",
       " 'artist': '방탄소년단',\n",
       " 'rank': 71,\n",
       " 'like': 80551}"
      ]
     },
     "execution_count": 171,
     "metadata": {},
     "output_type": "execute_result"
    }
   ],
   "source": [
    "min(\n",
    "    melon_top100_list,\n",
    "    key=lambda song: len(song[\"title\"])\n",
    ")"
   ]
  },
  {
   "cell_type": "code",
   "execution_count": null,
   "metadata": {},
   "outputs": [],
   "source": []
  },
  {
   "cell_type": "markdown",
   "metadata": {},
   "source": [
    "# 대소비교"
   ]
  },
  {
   "cell_type": "code",
   "execution_count": 174,
   "metadata": {},
   "outputs": [
    {
     "data": {
      "text/plain": [
       "False"
      ]
     },
     "execution_count": 174,
     "metadata": {},
     "output_type": "execute_result"
    }
   ],
   "source": [
    "\"9\" < \"10\""
   ]
  },
  {
   "cell_type": "code",
   "execution_count": 178,
   "metadata": {},
   "outputs": [
    {
     "data": {
      "text/plain": [
       "False"
      ]
     },
     "execution_count": 178,
     "metadata": {},
     "output_type": "execute_result"
    }
   ],
   "source": [
    "[\"9\"] < [\"1\",\"0\"]"
   ]
  },
  {
   "cell_type": "code",
   "execution_count": 176,
   "metadata": {},
   "outputs": [
    {
     "data": {
      "text/plain": [
       "False"
      ]
     },
     "execution_count": 176,
     "metadata": {},
     "output_type": "execute_result"
    }
   ],
   "source": [
    "(\"9\",) < (\"1\",\"0\")"
   ]
  },
  {
   "cell_type": "code",
   "execution_count": null,
   "metadata": {},
   "outputs": [],
   "source": []
  },
  {
   "cell_type": "markdown",
   "metadata": {},
   "source": [
    "## 퀴즈 : 다수 기준으로 정렬하여, 출력하기\n",
    "\n",
    "멜론 TOP100 리스트에서 ...\n",
    "\n",
    "- 1차 기준 : 가수명 오름차순\n",
    "- 2차 기준 : 좋아요 수 내림차순"
   ]
  },
  {
   "cell_type": "code",
   "execution_count": 193,
   "metadata": {
    "scrolled": true
   },
   "outputs": [
    {
     "name": "stdout",
     "output_type": "stream",
     "text": [
      "(여자)아이들 - 88992\n",
      "AKMU (악동뮤지션) - 324328\n",
      "AKMU (악동뮤지션) - 27547\n",
      "Anne-Marie - 344253\n",
      "Ariana Grande - 163192\n",
      "BLACKPINK - 164169\n",
      "BLACKPINK - 150487\n",
      "BLACKPINK - 71614\n",
      "BLACKPINK - 45999\n",
      "Billie Eilish - 240690\n",
      "Conan Gray - 109653\n",
      "Crush - 45950\n",
      "Dua Lipa - 125733\n",
      "Etham - 97130\n",
      "HYNN (박혜원) - 178474\n",
      "ITZY (있지) - 57086\n",
      "Jawsh 685 - 128625\n",
      "Lauv - 235071\n",
      "MINO (송민호) - 36788\n",
      "Mariah Carey - 144559\n",
      "Maroon 5 - 147095\n",
      "Red Velvet (레드벨벳) - 207314\n",
      "Ruel - 115439\n",
      "TWICE (트와이스) - 44830\n",
      "Tones And I - 142944\n",
      "aespa - 22284\n",
      "가호 (Gaho) - 193693\n",
      "경서 - 42768\n",
      "경서예지 - 35457\n",
      "규현 (KYUHYUN) - 80653\n",
      "김필 - 101220\n",
      "노을 - 168242\n",
      "노을 - 13498\n",
      "릴보이 (lIlBOI) - 36493\n",
      "마마무 (Mamamoo) - 48948\n",
      "마마무 (Mamamoo) - 26732\n",
      "마크툽 (MAKTUB) - 221664\n",
      "마크툽 (MAKTUB) - 30943\n",
      "먼데이 키즈 (Monday Kiz) - 20854\n",
      "미란이 - 96325\n",
      "바이브 - 151325\n",
      "박진영 - 67092\n",
      "방탄소년단 - 516137\n",
      "방탄소년단 - 406448\n",
      "방탄소년단 - 360973\n",
      "방탄소년단 - 253278\n",
      "방탄소년단 - 151888\n",
      "방탄소년단 - 91384\n",
      "방탄소년단 - 90768\n",
      "방탄소년단 - 84610\n",
      "방탄소년단 - 80551\n",
      "방탄소년단 - 79719\n",
      "백지영 - 48806\n",
      "블루 (BLOO) - 179908\n",
      "산들 - 157119\n",
      "선미 - 82381\n",
      "송하예 - 19524\n",
      "순순희 - 33048\n",
      "스윙스 - 22740\n",
      "스탠딩 에그 - 200318\n",
      "신예영 - 92121\n",
      "신용재 (2F) - 35641\n",
      "싹쓰리 (유두래곤, 린다G, 비룡) - 227742\n",
      "아이유 - 330812\n",
      "아이유 - 277216\n",
      "아이유 - 276492\n",
      "아이유 - 181227\n",
      "아이유 - 110524\n",
      "엠씨더맥스 (M.C the MAX) - 98867\n",
      "오마이걸 (OH MY GIRL) - 162197\n",
      "오마이걸 (OH MY GIRL) - 159448\n",
      "오반 - 133497\n",
      "오반 - 34630\n",
      "이승기 - 30936\n",
      "이하이 - 118469\n",
      "임영웅 - 102994\n",
      "임창정 - 79274\n",
      "임창정 - 24531\n",
      "잔나비 - 51564\n",
      "장범준 - 270226\n",
      "장범준 - 82843\n",
      "적재 - 41985\n",
      "전미도 - 128292\n",
      "전상근 - 53011\n",
      "제시 (Jessi) - 95443\n",
      "조이 (JOY) - 106782\n",
      "조정석 - 205491\n",
      "지코 (ZICO) - 250278\n",
      "지코 (ZICO) - 103641\n",
      "창모 (CHANGMO) - 242195\n",
      "청하 - 50408\n",
      "카더가든 - 34745\n",
      "폴킴 - 352271\n",
      "폴킴 - 274863\n",
      "폴킴 - 181151\n",
      "폴킴 - 32289\n",
      "허성현 (Rose de Penny) - 19431\n",
      "화사 (Hwa Sa) - 153215\n",
      "환불원정대 - 157953\n",
      "황인욱 - 41063\n"
     ]
    }
   ],
   "source": [
    "def sort_fn(song):    \n",
    "    return song[\"artist\"], -song[\"like\"]\n",
    "\n",
    "for song in sorted(\n",
    "    melon_top100_list,\n",
    "    key=sort_fn,\n",
    "    #reverse=True\n",
    "):\n",
    "    print(\"{artist} - {like}\".format(**song))"
   ]
  },
  {
   "cell_type": "code",
   "execution_count": null,
   "metadata": {},
   "outputs": [],
   "source": []
  },
  {
   "cell_type": "markdown",
   "metadata": {},
   "source": [
    "# 정규표현식"
   ]
  },
  {
   "cell_type": "code",
   "execution_count": 203,
   "metadata": {},
   "outputs": [
    {
     "data": {
      "text/plain": [
       "'\\\\d'"
      ]
     },
     "execution_count": 203,
     "metadata": {},
     "output_type": "execute_result"
    }
   ],
   "source": [
    "\"[]\"\n",
    "\"\\d+\"\n",
    "\"\\\\d\" \n",
    "r\"\\d\" # Raw의 약자"
   ]
  },
  {
   "cell_type": "code",
   "execution_count": 202,
   "metadata": {},
   "outputs": [
    {
     "data": {
      "text/plain": [
       "'\\t'"
      ]
     },
     "execution_count": 202,
     "metadata": {},
     "output_type": "execute_result"
    }
   ],
   "source": [
    "\"\\n\" # => 1문자\n",
    "\"\\t\""
   ]
  },
  {
   "cell_type": "code",
   "execution_count": 204,
   "metadata": {},
   "outputs": [
    {
     "data": {
      "text/plain": [
       "'[23]\\\\d{3}'"
      ]
     },
     "execution_count": 204,
     "metadata": {},
     "output_type": "execute_result"
    }
   ],
   "source": [
    "r\"\\d{4}\" # [0-9] 연속해서 4회 반복\n",
    "r\"[23]\\d{3}\""
   ]
  },
  {
   "cell_type": "code",
   "execution_count": 209,
   "metadata": {},
   "outputs": [],
   "source": [
    "# pk: \"\\d+\"\n",
    "# uuid: 32글자 => \"[0-9a-f{32}]\"\n",
    "# slug => 영문자\n",
    "# slug(unicode) => 모든 문자"
   ]
  },
  {
   "cell_type": "code",
   "execution_count": 206,
   "metadata": {},
   "outputs": [],
   "source": [
    "from uuid import uuid4"
   ]
  },
  {
   "cell_type": "code",
   "execution_count": 207,
   "metadata": {},
   "outputs": [
    {
     "data": {
      "text/plain": [
       "UUID('4ed6384d-1c6d-4292-a2ea-709d270744a5')"
      ]
     },
     "execution_count": 207,
     "metadata": {},
     "output_type": "execute_result"
    }
   ],
   "source": [
    "uuid4()"
   ]
  },
  {
   "cell_type": "code",
   "execution_count": 208,
   "metadata": {},
   "outputs": [
    {
     "data": {
      "text/plain": [
       "'0b22bd7d40c8439b949528315ff08701'"
      ]
     },
     "execution_count": 208,
     "metadata": {},
     "output_type": "execute_result"
    }
   ],
   "source": [
    "uuid4().hex"
   ]
  },
  {
   "cell_type": "code",
   "execution_count": null,
   "metadata": {},
   "outputs": [],
   "source": []
  },
  {
   "cell_type": "markdown",
   "metadata": {},
   "source": [
    "# 유니코드"
   ]
  },
  {
   "cell_type": "code",
   "execution_count": 213,
   "metadata": {},
   "outputs": [
    {
     "name": "stdout",
     "output_type": "stream",
     "text": [
      "3\n",
      "9\n",
      "가나\n",
      "b'\\xea\\xb0\\x80\\xeb\\x82\\x98'\n"
     ]
    }
   ],
   "source": [
    "unicode_ga = '가나다'\n",
    "utf8_ga = unicode_ga.encode('utf8')\n",
    "\n",
    "print(len(unicode_ga))   # 3 : 글자 수\n",
    "print(len(utf8_ga))      # 9 : 바이트 수\n",
    "\n",
    "# 처음 2글자만 보기\n",
    "print(unicode_ga[:2])\n",
    "print(utf8_ga[:6])       # 인코딩따라서 참조하는 인덱스가 다름."
   ]
  },
  {
   "cell_type": "code",
   "execution_count": 216,
   "metadata": {
    "scrolled": true
   },
   "outputs": [
    {
     "data": {
      "text/plain": [
       "b'\\xea\\xb0\\x80'"
      ]
     },
     "execution_count": 216,
     "metadata": {},
     "output_type": "execute_result"
    }
   ],
   "source": [
    "\"가\" # str(유니코드) => bytes(특정 인코딩)\n",
    "\"가\".encode(\"utf8\") # bytes"
   ]
  },
  {
   "cell_type": "code",
   "execution_count": 225,
   "metadata": {},
   "outputs": [
    {
     "data": {
      "text/plain": [
       "<Response [200]>"
      ]
     },
     "execution_count": 225,
     "metadata": {},
     "output_type": "execute_result"
    }
   ],
   "source": [
    "image_url = \"https://search.naver.com/search.naver?where=image&sm=tab_jum&query=%EC%9D%B4%EB%AF%B8%EC%A7%80#\"\n",
    "\n",
    "res = requests.get(image_url, headers=headers)\n",
    "res"
   ]
  },
  {
   "cell_type": "code",
   "execution_count": 226,
   "metadata": {},
   "outputs": [],
   "source": [
    "f = open(\"hello.txt\", \"wb\") # bytes를 직접 저장하겠다.\n",
    "f.write(\"가\".encode(\"cp949\"))\n",
    "f.close()"
   ]
  },
  {
   "cell_type": "code",
   "execution_count": 228,
   "metadata": {},
   "outputs": [],
   "source": [
    "# 유니코드를 주면 알아서 인코딩(utf-8,cp949)을 해달라\n",
    "#     encoding 옵션을 명시적으로 주어, OS마다 다르게 저장되는 인코딩의 차이를 제거한다.\n",
    "f = open(\"hello.txt\", \"wt\", encoding=\"utf8\") \n",
    "f.write(\"가\")\n",
    "f.close()"
   ]
  },
  {
   "cell_type": "code",
   "execution_count": null,
   "metadata": {},
   "outputs": [],
   "source": [
    "f = open(\"hello.txt\", \"wb\")\n",
    "f.write(image_url)\n",
    "f.close()"
   ]
  },
  {
   "cell_type": "code",
   "execution_count": 223,
   "metadata": {},
   "outputs": [],
   "source": [
    "# res.text => res.content (bytes)를 디코딩하여, 유니코드화(str)\n",
    "# res.content.decode(\"utf8\")"
   ]
  },
  {
   "cell_type": "code",
   "execution_count": 224,
   "metadata": {},
   "outputs": [],
   "source": [
    "from IPython.display import Image"
   ]
  },
  {
   "cell_type": "code",
   "execution_count": 229,
   "metadata": {
    "scrolled": true
   },
   "outputs": [
    {
     "data": {
      "text/html": [
       "<img src=\"https://search.naver.com/search.naver?where=image&sm=tab_jum&query=%EC%9D%B4%EB%AF%B8%EC%A7%80#\"/>"
      ],
      "text/plain": [
       "<IPython.core.display.Image object>"
      ]
     },
     "execution_count": 229,
     "metadata": {},
     "output_type": "execute_result"
    }
   ],
   "source": [
    "Image(url=image_url)"
   ]
  },
  {
   "cell_type": "code",
   "execution_count": null,
   "metadata": {},
   "outputs": [],
   "source": []
  },
  {
   "cell_type": "code",
   "execution_count": 230,
   "metadata": {},
   "outputs": [
    {
     "data": {
      "text/plain": [
       "b'\\xea\\xb0\\x80'"
      ]
     },
     "execution_count": 230,
     "metadata": {},
     "output_type": "execute_result"
    }
   ],
   "source": [
    "utf8_bytes = \"가\".encode(\"utf8\")\n",
    "utf8_bytes"
   ]
  },
  {
   "cell_type": "code",
   "execution_count": 235,
   "metadata": {},
   "outputs": [
    {
     "data": {
      "text/plain": [
       "'가'"
      ]
     },
     "execution_count": 235,
     "metadata": {},
     "output_type": "execute_result"
    }
   ],
   "source": [
    "# 현재 role에 위반되는 항목을 무시하고 진행을 하겠다.\n",
    "utf8_bytes.decode(\"utf8\", errors=\"ignore\") "
   ]
  },
  {
   "cell_type": "code",
   "execution_count": 232,
   "metadata": {},
   "outputs": [
    {
     "data": {
      "text/plain": [
       "<function bytes.decode(encoding='utf-8', errors='strict')>"
      ]
     },
     "execution_count": 232,
     "metadata": {},
     "output_type": "execute_result"
    }
   ],
   "source": [
    "utf8_bytes.decode"
   ]
  },
  {
   "cell_type": "code",
   "execution_count": 236,
   "metadata": {},
   "outputs": [
    {
     "data": {
      "text/plain": [
       "'가'"
      ]
     },
     "execution_count": 236,
     "metadata": {},
     "output_type": "execute_result"
    }
   ],
   "source": [
    "f = open(\"hello.txt\", \"rt\", encoding=\"utf8\")\n",
    "f.read()"
   ]
  },
  {
   "cell_type": "code",
   "execution_count": 237,
   "metadata": {},
   "outputs": [],
   "source": [
    "import locale"
   ]
  },
  {
   "cell_type": "code",
   "execution_count": 240,
   "metadata": {},
   "outputs": [],
   "source": [
    "# 이미지 다운받기\n",
    "import os\n",
    "import requests\n",
    "\n",
    "image_url = \"https://www.python.org/static/img/python-logo@2x.png\"\n",
    "image_filename = os.path.basename(image_url)\n",
    "\n",
    "# 서버에서 요청을 거부할 수도 있습니다. (예: 네이버 웹툰 이미지)\n",
    "res = requests.get(image_url)\n",
    "이미지_데이터 = res.content\n",
    "\n",
    "f = open(image_filename, \"wb\")\n",
    "f.write(이미지_데이터)\n",
    "f.close()"
   ]
  },
  {
   "cell_type": "code",
   "execution_count": 243,
   "metadata": {},
   "outputs": [
    {
     "name": "stdout",
     "output_type": "stream",
     "text": [
      "written to 20201023203136_f71de6b830335fa091a3cf0819224c9c_IMAG01_1.jpg.\n"
     ]
    }
   ],
   "source": [
    "# 네이버 웹툰 이미지 받아보기\n",
    "import os\n",
    "\n",
    "headers = {\n",
    "    'User-Agent': 'Mozilla/5.0 (Macintosh; Intel Mac OS X 10_14_3) AppleWebKit/537.36 (KHTML, like Gecko) Chrome/72.0.3626.121 Safari/537.36'\n",
    "}\n",
    "\n",
    "image_url = 'https://image-comic.pstatic.net/webtoon/728750/81/20201023203136_f71de6b830335fa091a3cf0819224c9c_IMAG01_1.jpg'\n",
    "\n",
    "res = requests.get(image_url, headers=headers)\n",
    "filename = os.path.basename(image_url)\n",
    "with open(filename, \"wb\") as f:\n",
    "    f.write(res.content)\n",
    "    print(f\"written to {filename}.\")"
   ]
  },
  {
   "cell_type": "code",
   "execution_count": 244,
   "metadata": {
    "scrolled": true
   },
   "outputs": [
    {
     "name": "stdout",
     "output_type": "stream",
     "text": [
      "20201023203136_f71de6b830335fa091a3cf0819224c9c_IMAG01_1.jpg\r\n",
      "PythonCode.ipynb\r\n",
      "hello.txt\r\n",
      "python-logo@2x.png\r\n"
     ]
    }
   ],
   "source": [
    "!ls"
   ]
  },
  {
   "cell_type": "code",
   "execution_count": 245,
   "metadata": {},
   "outputs": [],
   "source": [
    "!open ."
   ]
  },
  {
   "cell_type": "code",
   "execution_count": 246,
   "metadata": {},
   "outputs": [],
   "source": [
    "from contextlib import contextmanager\n",
    "\n",
    "@contextmanager\n",
    "def myopen(filepath, mode):\n",
    "    f = open(filepath, mode)\n",
    "    try:\n",
    "        yield f\n",
    "    finally:\n",
    "        f.close()  # 항상 호출됩니다."
   ]
  },
  {
   "cell_type": "code",
   "execution_count": 247,
   "metadata": {},
   "outputs": [],
   "source": [
    "with myopen(\"hello.txt\", \"wt\") as f:\n",
    "    f.write(\"....\")"
   ]
  },
  {
   "cell_type": "code",
   "execution_count": null,
   "metadata": {},
   "outputs": [],
   "source": []
  },
  {
   "cell_type": "code",
   "execution_count": 254,
   "metadata": {},
   "outputs": [],
   "source": [
    "import pandas as pd\n",
    "\n",
    "pd.DataFrame(melon_top100_list).to_csv(\"melon_top100.csv\")  # UTF8"
   ]
  },
  {
   "cell_type": "code",
   "execution_count": null,
   "metadata": {},
   "outputs": [],
   "source": []
  },
  {
   "cell_type": "markdown",
   "metadata": {},
   "source": [
    "# 퀴즈) 텍스트 파일을 줄 단위로 읽어서 출력하기"
   ]
  },
  {
   "cell_type": "code",
   "execution_count": 275,
   "metadata": {},
   "outputs": [
    {
     "name": "stdout",
     "output_type": "stream",
     "text": [
      "[0] ,song_no,title,album,artist,rank,like\n",
      "\n",
      "[1] 0,33077590,VVS (Feat. JUSTHIS) (Prod. GroovyRoom),쇼미더머니 9 Episode 1,미란이,1,96325\n",
      "\n",
      "[2] 1,32872978,Dynamite,Dynamite (DayTime Version),방탄소년단,2,360973\n",
      "\n",
      "[3] 2,33013877,잠이 오질 않네요,잠이 오질 않네요,장범준,3,82843\n",
      "\n",
      "[4] 3,33077234,Life Goes On,BE,방탄소년단,4,151888\n",
      "\n",
      "[5] 4,32998018,힘든 건 사랑이 아니다,힘든 건 사랑이 아니다,임창정,5,79274\n",
      "\n",
      "[6] 5,32961718,Lovesick Girls,THE ALBUM,BLACKPINK,6,150487\n",
      "\n",
      "[7] 6,32794652,취기를 빌려 (취향저격 그녀 X 산들),취기를 빌려 (취향저격 그녀 X 산들),산들,7,157119\n",
      "\n",
      "[8] 7,33061995,밤하늘의 별을(2020),밤하늘의 별을(2020),경서,8,42768\n",
      "\n",
      "[9] 8,33077591,Freak (Prod. Slom),쇼미더머니 9 Episode 1,릴보이 (lIlBOI),9,36493\n",
      "\n",
      "[10] 9,3894276,오래된 노래,오래된 노래,스탠딩 에그,10,200318\n",
      "\n"
     ]
    }
   ],
   "source": [
    "with open(\"melon_top100.csv\", \"rt\") as f:\n",
    "    # TODO: 줄 단위로 읽어서 출력해보세요.\n",
    "    \n",
    "#     print(f.read())\n",
    "    \n",
    "#     for line in f.read().splitlines():\n",
    "#         print(\"!!!\",line)\n",
    "\n",
    "#     for line in f.read().splitlines()[:10]:\n",
    "#         print(\"!!!\",line)\n",
    "\n",
    "#     for line in f:   # 파일객체는 Iterable\n",
    "#         print(\"!!!\", line)\n",
    "\n",
    "    for index, line in enumerate(f):   # 파일객체는 Iterable\n",
    "        print(f\"[{index}]\", line)\n",
    "        if index >= 10:\n",
    "            break"
   ]
  },
  {
   "cell_type": "code",
   "execution_count": null,
   "metadata": {},
   "outputs": [],
   "source": []
  },
  {
   "cell_type": "markdown",
   "metadata": {},
   "source": [
    "# 장식자 (Decorators)"
   ]
  },
  {
   "cell_type": "code",
   "execution_count": 281,
   "metadata": {},
   "outputs": [],
   "source": [
    "def base_10():\n",
    "    fn = lambda x, y: x + y + 10\n",
    "    return fn\n",
    "\n",
    "def base_10_2():\n",
    "    fn = lambda x, y: x + y + 10\n",
    "    def fn(x, y):\n",
    "        return x + y + 10\n",
    "    return fn"
   ]
  },
  {
   "cell_type": "code",
   "execution_count": 283,
   "metadata": {},
   "outputs": [],
   "source": [
    "def mysum1(x, y):\n",
    "    return x + y"
   ]
  },
  {
   "cell_type": "code",
   "execution_count": 282,
   "metadata": {},
   "outputs": [
    {
     "name": "stdout",
     "output_type": "stream",
     "text": [
      "13\n",
      "13\n"
     ]
    }
   ],
   "source": [
    "print(base_10()(1,2))\n",
    "print(base_10_2()(1,2))"
   ]
  },
  {
   "cell_type": "code",
   "execution_count": 276,
   "metadata": {},
   "outputs": [],
   "source": [
    "# base_10 함수 호출 시마다\n",
    "# 새로운 함수가 만들어지고 반환합니다.\n",
    "def base_10(fn):\n",
    "    def wrap(x, y):\n",
    "        return x + y + 10\n",
    "    return wrap"
   ]
  },
  {
   "cell_type": "code",
   "execution_count": 277,
   "metadata": {},
   "outputs": [],
   "source": [
    "# base_10 함수 호출 시마다\n",
    "# 새로운 함수가 만들어지고 반환합니다.\n",
    "def base_10(fn):\n",
    "    def wrap(x, y):\n",
    "        return x + y + 10\n",
    "    return wrap"
   ]
  },
  {
   "cell_type": "code",
   "execution_count": 278,
   "metadata": {},
   "outputs": [],
   "source": [
    "#\n",
    "# base_10 활용 예 #2\n",
    "#\n",
    "\n",
    "@base_10\n",
    "def mysum2(x, y):\n",
    "    return x + y"
   ]
  },
  {
   "cell_type": "code",
   "execution_count": null,
   "metadata": {},
   "outputs": [],
   "source": []
  },
  {
   "cell_type": "code",
   "execution_count": 306,
   "metadata": {},
   "outputs": [
    {
     "data": {
      "text/plain": [
       "63"
      ]
     },
     "execution_count": 306,
     "metadata": {},
     "output_type": "execute_result"
    }
   ],
   "source": [
    "def base_10(fn):\n",
    "    def wrap(x, y):\n",
    "        return fn(x, y) + 10\n",
    "    return wrap\n",
    "\n",
    "def base_20(fn):\n",
    "    def wrap(x, y):\n",
    "        return fn(x, y) + 20\n",
    "    return wrap\n",
    "\n",
    "def base_30(fn):\n",
    "    def wrap(x, y):\n",
    "        return fn(x, y) + 30\n",
    "    return wrap\n",
    "\n",
    "@base_10\n",
    "@base_20\n",
    "@base_30\n",
    "def mysum3(x, y):\n",
    "    return x + y\n",
    "\n",
    "mysum3(1, 2)"
   ]
  },
  {
   "cell_type": "code",
   "execution_count": 310,
   "metadata": {},
   "outputs": [
    {
     "data": {
      "text/plain": [
       "103"
      ]
     },
     "execution_count": 310,
     "metadata": {},
     "output_type": "execute_result"
    }
   ],
   "source": [
    "def base(base_number):\n",
    "    def wrap(fn):\n",
    "        def inner(x, y):\n",
    "            return fn(x, y) + base_number\n",
    "        return inner\n",
    "    return wrap\n",
    "\n",
    "# base_10 = base(10)\n",
    "# base_20 = base(20)\n",
    "# base_30 = base(30)\n",
    "\n",
    "# @base_10\n",
    "# @base_30\n",
    "@base(100)\n",
    "def mysum3(x, y):\n",
    "    return x + y\n",
    "\n",
    "mysum3(1, 2)"
   ]
  },
  {
   "cell_type": "code",
   "execution_count": 295,
   "metadata": {},
   "outputs": [],
   "source": [
    "def mysum1(x, y):\n",
    "    return x + y"
   ]
  },
  {
   "cell_type": "code",
   "execution_count": 299,
   "metadata": {},
   "outputs": [
    {
     "data": {
      "text/plain": [
       "53"
      ]
     },
     "execution_count": 299,
     "metadata": {},
     "output_type": "execute_result"
    }
   ],
   "source": [
    "mysum1 = base_10(mysum1) # 이름을 맞춥니다.\n",
    "mysum1 = base_10(mysum1) # 이름을 맞춥니다.\n",
    "mysum1 = base_10(mysum1) # 이름을 맞춥니다.\n",
    "mysum1 = base_10(mysum1) # 이름을 맞춥니다.\n",
    "\n",
    "mysum1(1,2)"
   ]
  },
  {
   "cell_type": "code",
   "execution_count": 302,
   "metadata": {},
   "outputs": [
    {
     "data": {
      "text/plain": [
       "33"
      ]
     },
     "execution_count": 302,
     "metadata": {},
     "output_type": "execute_result"
    }
   ],
   "source": [
    "@base_10\n",
    "@base_10\n",
    "@base_10\n",
    "def mysum2(x,y):\n",
    "    return x + y\n",
    "\n",
    "mysum2(1,2)"
   ]
  },
  {
   "cell_type": "code",
   "execution_count": null,
   "metadata": {},
   "outputs": [],
   "source": []
  },
  {
   "cell_type": "markdown",
   "metadata": {},
   "source": [
    "# 퀴즈) 지정된 조건의 인자만 처리하기"
   ]
  },
  {
   "cell_type": "code",
   "execution_count": 375,
   "metadata": {},
   "outputs": [
    {
     "name": "stdout",
     "output_type": "stream",
     "text": [
      "0 2 0 4 0\n",
      "1 1 3 1 5\n"
     ]
    }
   ],
   "source": [
    "def myfilter(filter_fn, alter_value):\n",
    "    def wrap(fn):\n",
    "        def inner(*args):  # args: tuple\n",
    "            # TODO\n",
    "            new_args = []\n",
    "            for arg in args:\n",
    "                new_args.append(\n",
    "                    arg if filter_fn(arg) else alter_value\n",
    "                )\n",
    "            print(*new_args)\n",
    "            return fn(*new_args)\n",
    "           \n",
    "        return inner\n",
    "    return wrap\n",
    "\n",
    "\n",
    "@myfilter(lambda i: i % 2 == 0, 0)\n",
    "def mysum_only_even_number(a, b, c, d, e):\n",
    "    return a + b + c + d + e\n",
    "\n",
    "@myfilter(lambda i: i % 2 == 1, 1)\n",
    "def mymultiply_only_odd_number(a, b, c, d, e):\n",
    "    return a * b * c * d * e\n",
    "\n",
    "assert mysum_only_even_number(1,2,3,4,5) == 6\n",
    "#       mysum_only_even_number(0,2,0,4,0) == 6\n",
    "assert mymultiply_only_odd_number(1,2,3,4,5) == 15\n",
    "#       mymultiply_only_odd_number(1,1,3,1,5)"
   ]
  },
  {
   "cell_type": "code",
   "execution_count": null,
   "metadata": {},
   "outputs": [],
   "source": []
  },
  {
   "cell_type": "markdown",
   "metadata": {},
   "source": [
    "# memoize 장식자 구현하기"
   ]
  },
  {
   "cell_type": "code",
   "execution_count": null,
   "metadata": {},
   "outputs": [],
   "source": []
  },
  {
   "cell_type": "code",
   "execution_count": null,
   "metadata": {},
   "outputs": [],
   "source": []
  },
  {
   "cell_type": "markdown",
   "metadata": {},
   "source": [
    "# 장식자 알아보기"
   ]
  },
  {
   "cell_type": "code",
   "execution_count": null,
   "metadata": {},
   "outputs": [],
   "source": [
    "def decorator(func):\n",
    "  def deco_func():\n",
    "    print(\"tistory\")\n",
    "    func()\n",
    "  return deco_func\n",
    "    \n",
    "def function1():\n",
    "  print(\"ssungkang\")\n",
    "  \n",
    "\n",
    "function1 = decorator(function1)\n",
    "function1()\n",
    "# tistory\n",
    "# ssungkang\n",
    "print(\"111\")"
   ]
  },
  {
   "cell_type": "code",
   "execution_count": null,
   "metadata": {},
   "outputs": [],
   "source": []
  }
 ],
 "metadata": {
  "kernelspec": {
   "display_name": "Python 3",
   "language": "python",
   "name": "python3"
  },
  "language_info": {
   "codemirror_mode": {
    "name": "ipython",
    "version": 3
   },
   "file_extension": ".py",
   "mimetype": "text/x-python",
   "name": "python",
   "nbconvert_exporter": "python",
   "pygments_lexer": "ipython3",
   "version": "3.8.3"
  }
 },
 "nbformat": 4,
 "nbformat_minor": 4
}
