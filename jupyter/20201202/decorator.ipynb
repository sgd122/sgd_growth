{
 "cells": [
  {
   "cell_type": "markdown",
   "metadata": {},
   "source": [
    "# 장식자 알아보기"
   ]
  },
  {
   "cell_type": "code",
   "execution_count": 5,
   "metadata": {},
   "outputs": [
    {
     "name": "stdout",
     "output_type": "stream",
     "text": [
      "deco_func을 호출하였습니다.\n",
      "function1을 호출하였습니다.\n"
     ]
    }
   ],
   "source": [
    "def decorator(func):\n",
    "  def deco_func():\n",
    "    print(\"deco_func을 호출하였습니다.\")\n",
    "    func()\n",
    "  return deco_func\n",
    "    \n",
    "def function1():\n",
    "  print(\"function1을 호출하였습니다.\")\n",
    "  \n",
    "\n",
    "function1 = decorator(function1)\n",
    "function1()"
   ]
  },
  {
   "cell_type": "code",
   "execution_count": 4,
   "metadata": {},
   "outputs": [
    {
     "name": "stdout",
     "output_type": "stream",
     "text": [
      "deco_func을 호출하였습니다.\n",
      "function1을 호출하였습니다.\n"
     ]
    }
   ],
   "source": [
    "def decorator(func):\n",
    "  def deco_func():\n",
    "    print(\"deco_func을 호출하였습니다.\")\n",
    "    func()\n",
    "  return deco_func\n",
    "\n",
    "@decorator\n",
    "def function1():\n",
    "  print(\"function1을 호출하였습니다.\")\n",
    "\n",
    "function1()"
   ]
  },
  {
   "cell_type": "code",
   "execution_count": 6,
   "metadata": {},
   "outputs": [
    {
     "name": "stdout",
     "output_type": "stream",
     "text": [
      "전처리\n",
      "클래스\n",
      "후처리\n"
     ]
    }
   ],
   "source": [
    "class Decorator:\n",
    "\n",
    "    def __init__(self, function):\n",
    "        self.function = function\n",
    "\n",
    "    def __call__(self, *args, **kwargs):\n",
    "        print('전처리')\n",
    "        print(self.function(*args, **kwargs))\n",
    "        print('후처리')\n",
    "@Decorator\n",
    "def example():\n",
    "    return '클래스'\n",
    "example()"
   ]
  },
  {
   "cell_type": "code",
   "execution_count": null,
   "metadata": {},
   "outputs": [],
   "source": []
  }
 ],
 "metadata": {
  "kernelspec": {
   "display_name": "Python 3",
   "language": "python",
   "name": "python3"
  },
  "language_info": {
   "codemirror_mode": {
    "name": "ipython",
    "version": 3
   },
   "file_extension": ".py",
   "mimetype": "text/x-python",
   "name": "python",
   "nbconvert_exporter": "python",
   "pygments_lexer": "ipython3",
   "version": "3.8.3"
  }
 },
 "nbformat": 4,
 "nbformat_minor": 4
}
